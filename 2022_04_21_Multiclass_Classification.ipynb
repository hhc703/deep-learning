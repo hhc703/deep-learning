{
  "nbformat": 4,
  "nbformat_minor": 0,
  "metadata": {
    "colab": {
      "name": "2022/04/21/Multiclass Classification.ipynb",
      "provenance": [],
      "collapsed_sections": [],
      "authorship_tag": "ABX9TyNWSYbj+vy/af/XSrkacQF7",
      "include_colab_link": true
    },
    "kernelspec": {
      "name": "python3",
      "display_name": "Python 3"
    },
    "language_info": {
      "name": "python"
    }
  },
  "cells": [
    {
      "cell_type": "markdown",
      "metadata": {
        "id": "view-in-github",
        "colab_type": "text"
      },
      "source": [
        "<a href=\"https://colab.research.google.com/github/hhc703/deep-learning/blob/main/2022_04_21_Multiclass_Classification.ipynb\" target=\"_parent\"><img src=\"https://colab.research.google.com/assets/colab-badge.svg\" alt=\"Open In Colab\"/></a>"
      ]
    },
    {
      "cell_type": "markdown",
      "source": [
        "다중 클래스 분류"
      ],
      "metadata": {
        "id": "dSfNb-Mh3i8g"
      }
    },
    {
      "cell_type": "code",
      "source": [
        "#배치 경사 하강법 적용\n",
        "class MultiClassNetwork:\n",
        "\n",
        "  def __init__(self, units = 10, batch_size = 32, learning_rate = 0.1, l1 = 0, l2 = 0):\n",
        "    self.units = units      # 은닉층의 뉴런 개수\n",
        "    self.w1 = None          # 은닉층의 가중치\n",
        "    self.b1 = None          # 은닉층의 절편\n",
        "    self.w2 = None          # 출력층의 가중치\n",
        "    self.b2 = None          # 출력층의 절편\n",
        "    self.a1 = None          # 은닉층의 활성화 출력\n",
        "    self.losses = []        # 훈련 손실\n",
        "    self.val_losses = []    # 검증 손실\n",
        "    self.lr = learning_rate # 학습률\n",
        "    self.l1 = l1            # L1 손실 하이퍼파라미터\n",
        "    self.l2 = l2            # L2 손실 하이퍼파라미터    \n",
        "    self.batch_size  = batch_size   # 배치 크기\n",
        "\n",
        "  def forpass(self, x):\n",
        "    z1 = np.dot(x, self.w1) + self.b1       # 첫 번째 층의 선형식 계산\n",
        "    self.a1 = self.sigmoid(z1)              # 활성화 함수 적용\n",
        "    z2 = np.dot(self.a1, self.w2) + self.b2 # 두 번째 층의 선형식 계산\n",
        "    return z2\n",
        "\n",
        "  def backprop(self, x,err):\n",
        "    m = len(x)  # 샘플 개수\n",
        "    #  출력층의 가중치와 절편에 대한 그레이디언트 계산\n",
        "    w2_grad = np.dot(self.a1.T, err) / m\n",
        "    b2_grad = np.sum(err) / m\n",
        "    # 시그모이드 함수까지 그레이디언트 계산\n",
        "    err_to_hidden = np.dot(err, self.w2.T) * self.a1 * (1 - self.a1)\n",
        "    # 은닉층의 가중치와 절편에 대한 그레이디언트 계산\n",
        "    w1_grad = np.dot(x.T, err_to_hidden) / m\n",
        "    b1_grad = np.sum(err_to_hidden, axis = 0) / m\n",
        "    return w1_grad, b1_grad, w2_grad, b2_grad\n",
        "\n",
        "  def sigmoid(self, z):\n",
        "    a = 1 / (1 + np.exp(-z))  # 시그모이드 계산\n",
        "    return a\n",
        "\n",
        "  def softmax(self, z):\n",
        "    # 소프트맥스 함수\n",
        "    exp_z = np.exp(z)\n",
        "    return exp_z / np.sum(exp_z, axis = 1).reshape(-1, 1)\n",
        "\n",
        "  def init_weights(self, n_features, n_classes):\n",
        "    self.w1 = np.random.normal(0, 1, (n_features, self.units))  # (특성 개수, 은닉층의 크기)\n",
        "    self.b1 = np.zeros(self.units)                              # 은닉층의 크기\n",
        "    self.w2 = np.random.normal(0, 1, (self.units, n_classes))   # (은닉층의 크기, 클래스 개수)\n",
        "    self.b2 = np.zeros(n_classes)\n",
        "\n",
        "  def fit(self, x, y, epochs = 100, x_val = None, y_val = None):\n",
        "    np.random.seed(42)\n",
        "    self.init_weights(x.shape[1], y.shape[1]) # 은닉층과 출력층의 가중치 초기화\n",
        "\n",
        "    # 에포크만큼 반복\n",
        "    for i in range(epochs):\n",
        "      loss = 0\n",
        "      print('.', end = '')\n",
        "      # 제너레이터 함수에서 반환한 미니 배치 순환\n",
        "      for x_batch, y_batch in self.gen_batch(x, y):\n",
        "        a = self.training(x_batch, y_batch)\n",
        "        # 안전한 로그 계산을 위한 클리핑\n",
        "        a = np.clip(a, 1e-10, 1-1e-10)\n",
        "        # 로그 손실과 규제 손실을 더하여 리스트에 추가\n",
        "        loss += np.sum(-y_batch*np.log(a))\n",
        "      self.losses.append((loss + self.reg_loss()) / len(x))\n",
        "      # 검증 세트에 대한 손실 계산\n",
        "      self.update_val_loss(x_val, y_val)\n",
        "\n",
        "  def training(self, x, y):\n",
        "    m = len(x)            # 샘플 갯수 저장\n",
        "    z = self.forpass(x)         # 정방향 함수 수행\n",
        "    a = self.softmax(z)         # 활성화 함수 적용\n",
        "    err = -(y - a)              # 오차 계산\n",
        "    # 오차 역전파하여 그레이디언트 계산\n",
        "    w1_grad, b1_grad, w2_grad, b2_grad = self.backprop(x, err)\n",
        "    # 그레이디언트에서 페널티 항의 미분값 빼기\n",
        "    w1_grad += (self.l1 * np.sign(self.w1) + self.l2 * self.w1) / m\n",
        "    w2_grad += (self.l1 * np.sign(self.w2) + self.l2 * self.w2) / m\n",
        "    # 은닉층의 가중치와 절편 업데이트\n",
        "    self.w1 -= self.lr * w1_grad\n",
        "    self.b1 -= self.lr * b1_grad\n",
        "    # 출력층의 가중치와 절편 업데이트\n",
        "    self.w2 -= self.lr * w2_grad\n",
        "    self.b2 -= self.lr * b2_grad\n",
        "    return a\n",
        "\n",
        "  def predict(self, x):\n",
        "    z = self.forpass(x)             # 정방향 계산 수행\n",
        "    return np.argmax(z, axis = 1)   # 가장 큰 값의 인덱스 반환\n",
        "\n",
        "  def score(self, x, y):\n",
        "    # 예측과 타깃 열 벡터를 비교하여 true의 비율을 반환\n",
        "    return np.mean(self.predict(x) == np.argmax(y, axis = 1))\n",
        "      \n",
        "  def reg_loss(self):\n",
        "    # 은닉층과 출력층의 가중치에 규제를 적용\n",
        "    return self.l1 * (np.sum(np.abs(self.w1)) + np.sum(np.abs(self.w2))) +  self.l2 / 2 * (np.sum(self.w1**2) + np.sum(self.w2**2))\n",
        "  \n",
        "  def update_val_loss(self, x_val, y_val):\n",
        "    z = self.forpass(x_val)         # 정방향 계산 수행\n",
        "    a = self.softmax(z)             # 활정화 함수 적용\n",
        "    a = np.clip(a, 1e-10,1-1e-10)   # 출력값 클리핑\n",
        "    # 로그 손실과 규제 손실을 더하여 리스트에 추가\n",
        "    val_loss = np.sum(-y_val*np.log(a))\n",
        "    self.val_losses.append((val_loss + self.reg_loss()) / len(y_val))\n",
        "\n",
        "  # 미니 배치 제너레이터 함수\n",
        "  def gen_batch(self, x, y):\n",
        "    length = len(x)\n",
        "    bins = length // self.batch_size    # 미니 배치 횟수\n",
        "    if length % self.batch_size:\n",
        "      bins += 1                         # 나누어 떨어지지 않을 때\n",
        "    indexes = np.random.permutation(np.arange(len(x)))  # 인덱스를 섞는다\n",
        "    x = x[indexes]\n",
        "    y = y[indexes]\n",
        "    for i in range(bins):\n",
        "      start = self.batch_size * i\n",
        "      end = self.batch_size * (i + 1)\n",
        "      yield x[start:end], y[start:end]    # batch_size만큼 슬라이싱하여 반환"
      ],
      "metadata": {
        "id": "lU9DmruQzwoV"
      },
      "execution_count": 41,
      "outputs": []
    },
    {
      "cell_type": "markdown",
      "source": [
        "의류 이미지"
      ],
      "metadata": {
        "id": "9_6yDQJS3waG"
      }
    },
    {
      "cell_type": "code",
      "source": [
        "!pip install tensorflow_gpu==2.0.0"
      ],
      "metadata": {
        "colab": {
          "base_uri": "https://localhost:8080/",
          "height": 0
        },
        "id": "PbBMUp1M3xR_",
        "outputId": "1d8b7a22-1f26-4c78-959b-ada93f0c3a29"
      },
      "execution_count": 2,
      "outputs": [
        {
          "output_type": "stream",
          "name": "stdout",
          "text": [
            "Collecting tensorflow_gpu==2.0.0\n",
            "  Downloading tensorflow_gpu-2.0.0-cp37-cp37m-manylinux2010_x86_64.whl (380.8 MB)\n",
            "\u001b[K     |████████████████████████████████| 380.8 MB 32 kB/s \n",
            "\u001b[?25hRequirement already satisfied: absl-py>=0.7.0 in /usr/local/lib/python3.7/dist-packages (from tensorflow_gpu==2.0.0) (1.0.0)\n",
            "Requirement already satisfied: keras-preprocessing>=1.0.5 in /usr/local/lib/python3.7/dist-packages (from tensorflow_gpu==2.0.0) (1.1.2)\n",
            "Requirement already satisfied: six>=1.10.0 in /usr/local/lib/python3.7/dist-packages (from tensorflow_gpu==2.0.0) (1.15.0)\n",
            "Collecting gast==0.2.2\n",
            "  Downloading gast-0.2.2.tar.gz (10 kB)\n",
            "Requirement already satisfied: termcolor>=1.1.0 in /usr/local/lib/python3.7/dist-packages (from tensorflow_gpu==2.0.0) (1.1.0)\n",
            "Requirement already satisfied: wrapt>=1.11.1 in /usr/local/lib/python3.7/dist-packages (from tensorflow_gpu==2.0.0) (1.14.0)\n",
            "Requirement already satisfied: astor>=0.6.0 in /usr/local/lib/python3.7/dist-packages (from tensorflow_gpu==2.0.0) (0.8.1)\n",
            "Requirement already satisfied: numpy<2.0,>=1.16.0 in /usr/local/lib/python3.7/dist-packages (from tensorflow_gpu==2.0.0) (1.21.6)\n",
            "Requirement already satisfied: wheel>=0.26 in /usr/local/lib/python3.7/dist-packages (from tensorflow_gpu==2.0.0) (0.37.1)\n",
            "Requirement already satisfied: protobuf>=3.6.1 in /usr/local/lib/python3.7/dist-packages (from tensorflow_gpu==2.0.0) (3.17.3)\n",
            "Collecting tensorboard<2.1.0,>=2.0.0\n",
            "  Downloading tensorboard-2.0.2-py3-none-any.whl (3.8 MB)\n",
            "\u001b[K     |████████████████████████████████| 3.8 MB 37.2 MB/s \n",
            "\u001b[?25hRequirement already satisfied: grpcio>=1.8.6 in /usr/local/lib/python3.7/dist-packages (from tensorflow_gpu==2.0.0) (1.44.0)\n",
            "Collecting keras-applications>=1.0.8\n",
            "  Downloading Keras_Applications-1.0.8-py3-none-any.whl (50 kB)\n",
            "\u001b[K     |████████████████████████████████| 50 kB 5.8 MB/s \n",
            "\u001b[?25hCollecting tensorflow-estimator<2.1.0,>=2.0.0\n",
            "  Downloading tensorflow_estimator-2.0.1-py2.py3-none-any.whl (449 kB)\n",
            "\u001b[K     |████████████████████████████████| 449 kB 67.9 MB/s \n",
            "\u001b[?25hRequirement already satisfied: opt-einsum>=2.3.2 in /usr/local/lib/python3.7/dist-packages (from tensorflow_gpu==2.0.0) (3.3.0)\n",
            "Requirement already satisfied: google-pasta>=0.1.6 in /usr/local/lib/python3.7/dist-packages (from tensorflow_gpu==2.0.0) (0.2.0)\n",
            "Requirement already satisfied: h5py in /usr/local/lib/python3.7/dist-packages (from keras-applications>=1.0.8->tensorflow_gpu==2.0.0) (3.1.0)\n",
            "Requirement already satisfied: werkzeug>=0.11.15 in /usr/local/lib/python3.7/dist-packages (from tensorboard<2.1.0,>=2.0.0->tensorflow_gpu==2.0.0) (1.0.1)\n",
            "Requirement already satisfied: setuptools>=41.0.0 in /usr/local/lib/python3.7/dist-packages (from tensorboard<2.1.0,>=2.0.0->tensorflow_gpu==2.0.0) (57.4.0)\n",
            "Requirement already satisfied: google-auth<2,>=1.6.3 in /usr/local/lib/python3.7/dist-packages (from tensorboard<2.1.0,>=2.0.0->tensorflow_gpu==2.0.0) (1.35.0)\n",
            "Requirement already satisfied: markdown>=2.6.8 in /usr/local/lib/python3.7/dist-packages (from tensorboard<2.1.0,>=2.0.0->tensorflow_gpu==2.0.0) (3.3.6)\n",
            "Requirement already satisfied: requests<3,>=2.21.0 in /usr/local/lib/python3.7/dist-packages (from tensorboard<2.1.0,>=2.0.0->tensorflow_gpu==2.0.0) (2.23.0)\n",
            "Requirement already satisfied: google-auth-oauthlib<0.5,>=0.4.1 in /usr/local/lib/python3.7/dist-packages (from tensorboard<2.1.0,>=2.0.0->tensorflow_gpu==2.0.0) (0.4.6)\n",
            "Requirement already satisfied: cachetools<5.0,>=2.0.0 in /usr/local/lib/python3.7/dist-packages (from google-auth<2,>=1.6.3->tensorboard<2.1.0,>=2.0.0->tensorflow_gpu==2.0.0) (4.2.4)\n",
            "Requirement already satisfied: rsa<5,>=3.1.4 in /usr/local/lib/python3.7/dist-packages (from google-auth<2,>=1.6.3->tensorboard<2.1.0,>=2.0.0->tensorflow_gpu==2.0.0) (4.8)\n",
            "Requirement already satisfied: pyasn1-modules>=0.2.1 in /usr/local/lib/python3.7/dist-packages (from google-auth<2,>=1.6.3->tensorboard<2.1.0,>=2.0.0->tensorflow_gpu==2.0.0) (0.2.8)\n",
            "Requirement already satisfied: requests-oauthlib>=0.7.0 in /usr/local/lib/python3.7/dist-packages (from google-auth-oauthlib<0.5,>=0.4.1->tensorboard<2.1.0,>=2.0.0->tensorflow_gpu==2.0.0) (1.3.1)\n",
            "Requirement already satisfied: importlib-metadata>=4.4 in /usr/local/lib/python3.7/dist-packages (from markdown>=2.6.8->tensorboard<2.1.0,>=2.0.0->tensorflow_gpu==2.0.0) (4.11.3)\n",
            "Requirement already satisfied: zipp>=0.5 in /usr/local/lib/python3.7/dist-packages (from importlib-metadata>=4.4->markdown>=2.6.8->tensorboard<2.1.0,>=2.0.0->tensorflow_gpu==2.0.0) (3.8.0)\n",
            "Requirement already satisfied: typing-extensions>=3.6.4 in /usr/local/lib/python3.7/dist-packages (from importlib-metadata>=4.4->markdown>=2.6.8->tensorboard<2.1.0,>=2.0.0->tensorflow_gpu==2.0.0) (4.1.1)\n",
            "Requirement already satisfied: pyasn1<0.5.0,>=0.4.6 in /usr/local/lib/python3.7/dist-packages (from pyasn1-modules>=0.2.1->google-auth<2,>=1.6.3->tensorboard<2.1.0,>=2.0.0->tensorflow_gpu==2.0.0) (0.4.8)\n",
            "Requirement already satisfied: idna<3,>=2.5 in /usr/local/lib/python3.7/dist-packages (from requests<3,>=2.21.0->tensorboard<2.1.0,>=2.0.0->tensorflow_gpu==2.0.0) (2.10)\n",
            "Requirement already satisfied: urllib3!=1.25.0,!=1.25.1,<1.26,>=1.21.1 in /usr/local/lib/python3.7/dist-packages (from requests<3,>=2.21.0->tensorboard<2.1.0,>=2.0.0->tensorflow_gpu==2.0.0) (1.24.3)\n",
            "Requirement already satisfied: chardet<4,>=3.0.2 in /usr/local/lib/python3.7/dist-packages (from requests<3,>=2.21.0->tensorboard<2.1.0,>=2.0.0->tensorflow_gpu==2.0.0) (3.0.4)\n",
            "Requirement already satisfied: certifi>=2017.4.17 in /usr/local/lib/python3.7/dist-packages (from requests<3,>=2.21.0->tensorboard<2.1.0,>=2.0.0->tensorflow_gpu==2.0.0) (2021.10.8)\n",
            "Requirement already satisfied: oauthlib>=3.0.0 in /usr/local/lib/python3.7/dist-packages (from requests-oauthlib>=0.7.0->google-auth-oauthlib<0.5,>=0.4.1->tensorboard<2.1.0,>=2.0.0->tensorflow_gpu==2.0.0) (3.2.0)\n",
            "Requirement already satisfied: cached-property in /usr/local/lib/python3.7/dist-packages (from h5py->keras-applications>=1.0.8->tensorflow_gpu==2.0.0) (1.5.2)\n",
            "Building wheels for collected packages: gast\n",
            "  Building wheel for gast (setup.py) ... \u001b[?25l\u001b[?25hdone\n",
            "  Created wheel for gast: filename=gast-0.2.2-py3-none-any.whl size=7554 sha256=c8190a7109dd975932408a5e8d7d5c11c941a09a9e0c216e373d69f1b3a8e3d8\n",
            "  Stored in directory: /root/.cache/pip/wheels/21/7f/02/420f32a803f7d0967b48dd823da3f558c5166991bfd204eef3\n",
            "Successfully built gast\n",
            "Installing collected packages: tensorflow-estimator, tensorboard, keras-applications, gast, tensorflow-gpu\n",
            "  Attempting uninstall: tensorflow-estimator\n",
            "    Found existing installation: tensorflow-estimator 2.8.0\n",
            "    Uninstalling tensorflow-estimator-2.8.0:\n",
            "      Successfully uninstalled tensorflow-estimator-2.8.0\n",
            "  Attempting uninstall: tensorboard\n",
            "    Found existing installation: tensorboard 2.8.0\n",
            "    Uninstalling tensorboard-2.8.0:\n",
            "      Successfully uninstalled tensorboard-2.8.0\n",
            "  Attempting uninstall: gast\n",
            "    Found existing installation: gast 0.5.3\n",
            "    Uninstalling gast-0.5.3:\n",
            "      Successfully uninstalled gast-0.5.3\n",
            "\u001b[31mERROR: pip's dependency resolver does not currently take into account all the packages that are installed. This behaviour is the source of the following dependency conflicts.\n",
            "tensorflow 2.8.0 requires tf-estimator-nightly==2.8.0.dev2021122109, which is not installed.\n",
            "tensorflow 2.8.0 requires tensorboard<2.9,>=2.8, but you have tensorboard 2.0.2 which is incompatible.\n",
            "tensorflow-probability 0.16.0 requires gast>=0.3.2, but you have gast 0.2.2 which is incompatible.\u001b[0m\n",
            "Successfully installed gast-0.2.2 keras-applications-1.0.8 tensorboard-2.0.2 tensorflow-estimator-2.0.1 tensorflow-gpu-2.0.0\n"
          ]
        }
      ]
    },
    {
      "cell_type": "code",
      "source": [
        "import tensorflow as tf\n",
        "import numpy as np"
      ],
      "metadata": {
        "id": "GSVoypG734RY"
      },
      "execution_count": 16,
      "outputs": []
    },
    {
      "cell_type": "code",
      "source": [
        "tf.__version__"
      ],
      "metadata": {
        "colab": {
          "base_uri": "https://localhost:8080/",
          "height": 35
        },
        "id": "k_lMccAo4gMc",
        "outputId": "11d91fb3-b69e-4def-97eb-9b3f65754e25"
      },
      "execution_count": 5,
      "outputs": [
        {
          "output_type": "execute_result",
          "data": {
            "text/plain": [
              "'2.0.0'"
            ],
            "application/vnd.google.colaboratory.intrinsic+json": {
              "type": "string"
            }
          },
          "metadata": {},
          "execution_count": 5
        }
      ]
    },
    {
      "cell_type": "code",
      "source": [
        "(x_train_all, y_train_all), (x_test, y_test) = tf.keras.datasets.fashion_mnist.load_data()"
      ],
      "metadata": {
        "id": "zhahM-KR4kx9"
      },
      "execution_count": 53,
      "outputs": []
    },
    {
      "cell_type": "code",
      "source": [
        "print(x_train_all.shape, y_train_all.shape)"
      ],
      "metadata": {
        "colab": {
          "base_uri": "https://localhost:8080/",
          "height": 0
        },
        "id": "-UPHy1IY4vCr",
        "outputId": "158decde-7d7d-40cf-9fb8-65e11cc7c1c2"
      },
      "execution_count": 9,
      "outputs": [
        {
          "output_type": "stream",
          "name": "stdout",
          "text": [
            "(60000, 28, 28) (60000,)\n"
          ]
        }
      ]
    },
    {
      "cell_type": "code",
      "source": [
        "import matplotlib.pyplot as plt\n",
        "plt.imshow(x_train_all[0], cmap = 'gray')\n",
        "plt.show()"
      ],
      "metadata": {
        "colab": {
          "base_uri": "https://localhost:8080/",
          "height": 265
        },
        "id": "95m5SjVN41aT",
        "outputId": "b5e84212-eb9f-4952-e566-a1c9509fa7b8"
      },
      "execution_count": 10,
      "outputs": [
        {
          "output_type": "display_data",
          "data": {
            "text/plain": [
              "<Figure size 432x288 with 1 Axes>"
            ],
            "image/png": "[encoded data removed]"
          },
          "metadata": {
            "needs_background": "light"
          }
        }
      ]
    },
    {
      "cell_type": "code",
      "source": [
        "print(y_train_all[:10])"
      ],
      "metadata": {
        "colab": {
          "base_uri": "https://localhost:8080/",
          "height": 0
        },
        "id": "m175oJnV5R4q",
        "outputId": "bb667ad9-2dc3-4010-ced6-aa271ab0d7b3"
      },
      "execution_count": 11,
      "outputs": [
        {
          "output_type": "stream",
          "name": "stdout",
          "text": [
            "[9 0 0 3 0 2 7 2 5 5]\n"
          ]
        }
      ]
    },
    {
      "cell_type": "code",
      "source": [
        "class_names = ['티셔츠/윗도리', '바지', '스웨터', '드레스', '코트', '샌들', '셔츠', '스니커즈', '가방', '앵클부츠']"
      ],
      "metadata": {
        "id": "E8Fc5nRS5XL4"
      },
      "execution_count": 12,
      "outputs": []
    },
    {
      "cell_type": "code",
      "source": [
        "print(class_names[y_train_all[0]])"
      ],
      "metadata": {
        "colab": {
          "base_uri": "https://localhost:8080/",
          "height": 0
        },
        "id": "lpn3X7MW5pxQ",
        "outputId": "f23d5ecb-6190-452d-f743-e7b6fd88ce24"
      },
      "execution_count": 13,
      "outputs": [
        {
          "output_type": "stream",
          "name": "stdout",
          "text": [
            "앵클부츠\n"
          ]
        }
      ]
    },
    {
      "cell_type": "code",
      "source": [
        "np.bincount(y_train_all)"
      ],
      "metadata": {
        "colab": {
          "base_uri": "https://localhost:8080/",
          "height": 0
        },
        "id": "yxnTo6VV5vxz",
        "outputId": "bddf2580-be8e-43dc-e404-683951302a36"
      },
      "execution_count": 17,
      "outputs": [
        {
          "output_type": "execute_result",
          "data": {
            "text/plain": [
              "array([6000, 6000, 6000, 6000, 6000, 6000, 6000, 6000, 6000, 6000])"
            ]
          },
          "metadata": {},
          "execution_count": 17
        }
      ]
    },
    {
      "cell_type": "code",
      "source": [
        "from sklearn.model_selection import train_test_split\n",
        "x_train, x_val, y_train, y_val = train_test_split(x_train_all, y_train_all,\n",
        "                                                  stratify = y_train_all, test_size = 0.2, random_state = 42)"
      ],
      "metadata": {
        "id": "wOMsJNvJ53sJ"
      },
      "execution_count": 54,
      "outputs": []
    },
    {
      "cell_type": "code",
      "source": [
        "np.bincount(y_train)"
      ],
      "metadata": {
        "colab": {
          "base_uri": "https://localhost:8080/",
          "height": 0
        },
        "id": "fSk1c4_b6dby",
        "outputId": "124fd6cd-804f-4dfd-ddfa-12e0192e4fa0"
      },
      "execution_count": 19,
      "outputs": [
        {
          "output_type": "execute_result",
          "data": {
            "text/plain": [
              "array([4800, 4800, 4800, 4800, 4800, 4800, 4800, 4800, 4800, 4800])"
            ]
          },
          "metadata": {},
          "execution_count": 19
        }
      ]
    },
    {
      "cell_type": "code",
      "source": [
        "np.bincount(y_val)"
      ],
      "metadata": {
        "colab": {
          "base_uri": "https://localhost:8080/",
          "height": 0
        },
        "id": "kxlPBTOJ6ggI",
        "outputId": "f2389a86-98c5-42c7-f46a-7e58496f2c32"
      },
      "execution_count": 20,
      "outputs": [
        {
          "output_type": "execute_result",
          "data": {
            "text/plain": [
              "array([1200, 1200, 1200, 1200, 1200, 1200, 1200, 1200, 1200, 1200])"
            ]
          },
          "metadata": {},
          "execution_count": 20
        }
      ]
    },
    {
      "cell_type": "code",
      "source": [
        "x_train = x_train / 255\n",
        "x_val = x_val / 255"
      ],
      "metadata": {
        "id": "ebYcJngO6imb"
      },
      "execution_count": 55,
      "outputs": []
    },
    {
      "cell_type": "code",
      "source": [
        "x_train = x_train.reshape(-1, 784)\n",
        "x_val = x_val.reshape(-1, 784)"
      ],
      "metadata": {
        "id": "vVEgNiEm6tio"
      },
      "execution_count": 56,
      "outputs": []
    },
    {
      "cell_type": "code",
      "source": [
        "print(x_train.shape, x_val.shape)"
      ],
      "metadata": {
        "colab": {
          "base_uri": "https://localhost:8080/",
          "height": 0
        },
        "id": "VOzZ-3jZ65Cg",
        "outputId": "0b38c7da-9364-44f2-832d-d26efa9ce0c6"
      },
      "execution_count": 57,
      "outputs": [
        {
          "output_type": "stream",
          "name": "stdout",
          "text": [
            "(48000, 784) (12000, 784)\n"
          ]
        }
      ]
    },
    {
      "cell_type": "code",
      "source": [
        "tf.keras.utils.to_categorical([0, 1, 3])"
      ],
      "metadata": {
        "colab": {
          "base_uri": "https://localhost:8080/",
          "height": 0
        },
        "id": "iOv2JLTb6-mE",
        "outputId": "69eed5b4-f99a-460d-8606-7d2c09448e98"
      },
      "execution_count": 58,
      "outputs": [
        {
          "output_type": "execute_result",
          "data": {
            "text/plain": [
              "array([[1., 0., 0., 0.],\n",
              "       [0., 1., 0., 0.],\n",
              "       [0., 0., 0., 1.]], dtype=float32)"
            ]
          },
          "metadata": {},
          "execution_count": 58
        }
      ]
    },
    {
      "cell_type": "code",
      "source": [
        "y_train_encoded = tf.keras.utils.to_categorical(y_train)\n",
        "y_val_encoded = tf.keras.utils.to_categorical(y_val)"
      ],
      "metadata": {
        "id": "z-JDsZAp7arR"
      },
      "execution_count": 59,
      "outputs": []
    },
    {
      "cell_type": "code",
      "source": [
        "print(y_train_encoded.shape, y_val_encoded.shape)"
      ],
      "metadata": {
        "colab": {
          "base_uri": "https://localhost:8080/",
          "height": 0
        },
        "id": "chJVv4Fa7tFX",
        "outputId": "8f03c6c0-974e-45bd-ae67-7a326ed534f7"
      },
      "execution_count": 60,
      "outputs": [
        {
          "output_type": "stream",
          "name": "stdout",
          "text": [
            "(48000, 10) (12000, 10)\n"
          ]
        }
      ]
    },
    {
      "cell_type": "code",
      "source": [
        "print(y_train[0], y_train_encoded[0])"
      ],
      "metadata": {
        "colab": {
          "base_uri": "https://localhost:8080/",
          "height": 0
        },
        "id": "lzUkqolU7ydk",
        "outputId": "f6f812da-673f-4bb0-a51c-81fcb65a88b1"
      },
      "execution_count": 61,
      "outputs": [
        {
          "output_type": "stream",
          "name": "stdout",
          "text": [
            "6 [0. 0. 0. 0. 0. 0. 1. 0. 0. 0.]\n"
          ]
        }
      ]
    },
    {
      "cell_type": "code",
      "source": [
        "fc = MultiClassNetwork(units = 100, batch_size = 256)\n",
        "fc.fit(x_train, y_train_encoded, x_val = x_val, y_val = y_val_encoded, epochs=40)"
      ],
      "metadata": {
        "colab": {
          "base_uri": "https://localhost:8080/",
          "height": 0
        },
        "id": "vINB34tw77Tp",
        "outputId": "527ca53f-b26b-4971-8810-3b864b176191"
      },
      "execution_count": 62,
      "outputs": [
        {
          "output_type": "stream",
          "name": "stdout",
          "text": [
            "........................................"
          ]
        }
      ]
    },
    {
      "cell_type": "code",
      "source": [
        "plt.plot(fc.losses)\n",
        "plt.plot(fc.val_losses)\n",
        "plt.ylabel('loss')\n",
        "plt.xlabel('iteration')\n",
        "plt.legend(['train_loss', 'val_loss'])\n",
        "plt.show()"
      ],
      "metadata": {
        "colab": {
          "base_uri": "https://localhost:8080/",
          "height": 279
        },
        "id": "gZIn40jm8mwy",
        "outputId": "fa2b6fbe-3140-44f1-92ff-fbc21451fc03"
      },
      "execution_count": 63,
      "outputs": [
        {
          "output_type": "display_data",
          "data": {
            "text/plain": [
              "<Figure size 432x288 with 1 Axes>"
            ],
            "image/png": "[encoded data removed]"
          },
          "metadata": {
            "needs_background": "light"
          }
        }
      ]
    },
    {
      "cell_type": "code",
      "source": [
        "fc.score(x_val, y_val_encoded)"
      ],
      "metadata": {
        "colab": {
          "base_uri": "https://localhost:8080/",
          "height": 0
        },
        "id": "jB94WBfwCZeI",
        "outputId": "50bc41fc-0d78-4dd9-ca1c-ed5801c7da86"
      },
      "execution_count": 64,
      "outputs": [
        {
          "output_type": "execute_result",
          "data": {
            "text/plain": [
              "0.8150833333333334"
            ]
          },
          "metadata": {},
          "execution_count": 64
        }
      ]
    },
    {
      "cell_type": "code",
      "source": [
        "model = tf.keras.models.Sequential()\n",
        "model.add(tf.keras.layers.Dense(1))\n",
        "model.compile(optimizer = 'sgd', loss = 'mse')\n",
        "model.fit(x_train, y_train, epochs = 10)"
      ],
      "metadata": {
        "colab": {
          "base_uri": "https://localhost:8080/",
          "height": 0
        },
        "id": "QZZAdrtQCf0K",
        "outputId": "ad970cdf-17e0-4007-8b24-8fa86676cf3c"
      },
      "execution_count": 69,
      "outputs": [
        {
          "output_type": "stream",
          "name": "stdout",
          "text": [
            "Train on 48000 samples\n",
            "Epoch 1/10\n",
            "48000/48000 [==============================] - 3s 68us/sample - loss: nan\n",
            "Epoch 2/10\n",
            "48000/48000 [==============================] - 2s 47us/sample - loss: nan\n",
            "Epoch 3/10\n",
            "48000/48000 [==============================] - 3s 57us/sample - loss: nan\n",
            "Epoch 4/10\n",
            "48000/48000 [==============================] - 4s 83us/sample - loss: nan\n",
            "Epoch 5/10\n",
            "48000/48000 [==============================] - 3s 53us/sample - loss: nan\n",
            "Epoch 6/10\n",
            "48000/48000 [==============================] - 2s 46us/sample - loss: nan\n",
            "Epoch 7/10\n",
            "48000/48000 [==============================] - 2s 47us/sample - loss: nan\n",
            "Epoch 8/10\n",
            "48000/48000 [==============================] - 2s 46us/sample - loss: nan\n",
            "Epoch 9/10\n",
            "48000/48000 [==============================] - 2s 46us/sample - loss: nan\n",
            "Epoch 10/10\n",
            "48000/48000 [==============================] - 2s 46us/sample - loss: nan\n"
          ]
        },
        {
          "output_type": "execute_result",
          "data": {
            "text/plain": [
              "<tensorflow.python.keras.callbacks.History at 0x7fb44aa7d650>"
            ]
          },
          "metadata": {},
          "execution_count": 69
        }
      ]
    },
    {
      "cell_type": "code",
      "source": [
        "from tensorflow.keras import Sequential\n",
        "from tensorflow.keras.layers import Dense\n",
        "model = Sequential()\n",
        "model.add(Dense(100, activation='sigmoid', input_shape = (784, )))\n",
        "model.add(Dense(10, activation='softmax'))"
      ],
      "metadata": {
        "id": "_kM5dVdLHAGU"
      },
      "execution_count": 72,
      "outputs": []
    },
    {
      "cell_type": "code",
      "source": [
        "model.compile(optimizer = 'sgd', loss = 'categorical_crossentropy', metrics = ['accuracy'])"
      ],
      "metadata": {
        "id": "76h1WikfTpRl"
      },
      "execution_count": 73,
      "outputs": []
    },
    {
      "cell_type": "code",
      "source": [
        "history = model.fit(x_train, y_train_encoded, epochs = 40, validation_data = (x_val, y_val_encoded))"
      ],
      "metadata": {
        "colab": {
          "base_uri": "https://localhost:8080/"
        },
        "id": "hiNMMnUxUDxZ",
        "outputId": "28e38993-7383-4f01-e413-6de4b79a9c54"
      },
      "execution_count": 74,
      "outputs": [
        {
          "output_type": "stream",
          "name": "stdout",
          "text": [
            "Train on 48000 samples, validate on 12000 samples\n",
            "Epoch 1/40\n",
            "48000/48000 [==============================] - 7s 139us/sample - loss: 1.3954 - accuracy: 0.6499 - val_loss: 0.9669 - val_accuracy: 0.7377\n",
            "Epoch 2/40\n",
            "48000/48000 [==============================] - 5s 100us/sample - loss: 0.8399 - accuracy: 0.7491 - val_loss: 0.7455 - val_accuracy: 0.7678\n",
            "Epoch 3/40\n",
            "48000/48000 [==============================] - 5s 98us/sample - loss: 0.7045 - accuracy: 0.7691 - val_loss: 0.6599 - val_accuracy: 0.7824\n",
            "Epoch 4/40\n",
            "48000/48000 [==============================] - 5s 94us/sample - loss: 0.6399 - accuracy: 0.7841 - val_loss: 0.6071 - val_accuracy: 0.7918\n",
            "Epoch 5/40\n",
            "48000/48000 [==============================] - 5s 96us/sample - loss: 0.5991 - accuracy: 0.7952 - val_loss: 0.5729 - val_accuracy: 0.8039\n",
            "Epoch 6/40\n",
            "48000/48000 [==============================] - 4s 93us/sample - loss: 0.5701 - accuracy: 0.8041 - val_loss: 0.5483 - val_accuracy: 0.8106\n",
            "Epoch 7/40\n",
            "48000/48000 [==============================] - 4s 94us/sample - loss: 0.5479 - accuracy: 0.8122 - val_loss: 0.5280 - val_accuracy: 0.8182\n",
            "Epoch 8/40\n",
            "48000/48000 [==============================] - 5s 97us/sample - loss: 0.5307 - accuracy: 0.8171 - val_loss: 0.5131 - val_accuracy: 0.8217\n",
            "Epoch 9/40\n",
            "48000/48000 [==============================] - 4s 93us/sample - loss: 0.5168 - accuracy: 0.8211 - val_loss: 0.5004 - val_accuracy: 0.8248\n",
            "Epoch 10/40\n",
            "48000/48000 [==============================] - 4s 94us/sample - loss: 0.5051 - accuracy: 0.8252 - val_loss: 0.4889 - val_accuracy: 0.8279\n",
            "Epoch 11/40\n",
            "48000/48000 [==============================] - 5s 95us/sample - loss: 0.4952 - accuracy: 0.8286 - val_loss: 0.4806 - val_accuracy: 0.8307\n",
            "Epoch 12/40\n",
            "48000/48000 [==============================] - 5s 99us/sample - loss: 0.4864 - accuracy: 0.8315 - val_loss: 0.4747 - val_accuracy: 0.8317\n",
            "Epoch 13/40\n",
            "48000/48000 [==============================] - 5s 95us/sample - loss: 0.4786 - accuracy: 0.8328 - val_loss: 0.4659 - val_accuracy: 0.8363\n",
            "Epoch 14/40\n",
            "48000/48000 [==============================] - 5s 96us/sample - loss: 0.4719 - accuracy: 0.8354 - val_loss: 0.4592 - val_accuracy: 0.8387\n",
            "Epoch 15/40\n",
            "48000/48000 [==============================] - 5s 99us/sample - loss: 0.4658 - accuracy: 0.8373 - val_loss: 0.4540 - val_accuracy: 0.8401\n",
            "Epoch 16/40\n",
            "48000/48000 [==============================] - 5s 99us/sample - loss: 0.4600 - accuracy: 0.8393 - val_loss: 0.4482 - val_accuracy: 0.8413\n",
            "Epoch 17/40\n",
            "48000/48000 [==============================] - 5s 96us/sample - loss: 0.4549 - accuracy: 0.8407 - val_loss: 0.4451 - val_accuracy: 0.8415\n",
            "Epoch 18/40\n",
            "48000/48000 [==============================] - 5s 95us/sample - loss: 0.4503 - accuracy: 0.8421 - val_loss: 0.4394 - val_accuracy: 0.8445\n",
            "Epoch 19/40\n",
            "48000/48000 [==============================] - 5s 99us/sample - loss: 0.4457 - accuracy: 0.8435 - val_loss: 0.4348 - val_accuracy: 0.8453\n",
            "Epoch 20/40\n",
            "48000/48000 [==============================] - 5s 97us/sample - loss: 0.4417 - accuracy: 0.8450 - val_loss: 0.4322 - val_accuracy: 0.8464\n",
            "Epoch 21/40\n",
            "48000/48000 [==============================] - 5s 98us/sample - loss: 0.4378 - accuracy: 0.8458 - val_loss: 0.4280 - val_accuracy: 0.8471\n",
            "Epoch 22/40\n",
            "48000/48000 [==============================] - 5s 98us/sample - loss: 0.4341 - accuracy: 0.8476 - val_loss: 0.4260 - val_accuracy: 0.8502\n",
            "Epoch 23/40\n",
            "48000/48000 [==============================] - 5s 102us/sample - loss: 0.4308 - accuracy: 0.8489 - val_loss: 0.4226 - val_accuracy: 0.8513\n",
            "Epoch 24/40\n",
            "48000/48000 [==============================] - 5s 99us/sample - loss: 0.4274 - accuracy: 0.8492 - val_loss: 0.4189 - val_accuracy: 0.8522\n",
            "Epoch 25/40\n",
            "48000/48000 [==============================] - 5s 103us/sample - loss: 0.4242 - accuracy: 0.8494 - val_loss: 0.4192 - val_accuracy: 0.8519\n",
            "Epoch 26/40\n",
            "48000/48000 [==============================] - 5s 95us/sample - loss: 0.4214 - accuracy: 0.8512 - val_loss: 0.4144 - val_accuracy: 0.8539\n",
            "Epoch 27/40\n",
            "48000/48000 [==============================] - 5s 103us/sample - loss: 0.4185 - accuracy: 0.8524 - val_loss: 0.4108 - val_accuracy: 0.8561\n",
            "Epoch 28/40\n",
            "48000/48000 [==============================] - 5s 98us/sample - loss: 0.4160 - accuracy: 0.8536 - val_loss: 0.4085 - val_accuracy: 0.8559\n",
            "Epoch 29/40\n",
            "48000/48000 [==============================] - 5s 96us/sample - loss: 0.4134 - accuracy: 0.8536 - val_loss: 0.4065 - val_accuracy: 0.8565\n",
            "Epoch 30/40\n",
            "48000/48000 [==============================] - 5s 97us/sample - loss: 0.4109 - accuracy: 0.8551 - val_loss: 0.4056 - val_accuracy: 0.8569\n",
            "Epoch 31/40\n",
            "48000/48000 [==============================] - 5s 95us/sample - loss: 0.4084 - accuracy: 0.8564 - val_loss: 0.4037 - val_accuracy: 0.8570\n",
            "Epoch 32/40\n",
            "48000/48000 [==============================] - 5s 96us/sample - loss: 0.4061 - accuracy: 0.8561 - val_loss: 0.4024 - val_accuracy: 0.8567\n",
            "Epoch 33/40\n",
            "48000/48000 [==============================] - 5s 97us/sample - loss: 0.4040 - accuracy: 0.8568 - val_loss: 0.3984 - val_accuracy: 0.8587\n",
            "Epoch 34/40\n",
            "48000/48000 [==============================] - 5s 97us/sample - loss: 0.4017 - accuracy: 0.8582 - val_loss: 0.3963 - val_accuracy: 0.8606\n",
            "Epoch 35/40\n",
            "48000/48000 [==============================] - 5s 96us/sample - loss: 0.3997 - accuracy: 0.8580 - val_loss: 0.3947 - val_accuracy: 0.8609\n",
            "Epoch 36/40\n",
            "48000/48000 [==============================] - 5s 97us/sample - loss: 0.3976 - accuracy: 0.8592 - val_loss: 0.3934 - val_accuracy: 0.8620\n",
            "Epoch 37/40\n",
            "48000/48000 [==============================] - 5s 97us/sample - loss: 0.3957 - accuracy: 0.8598 - val_loss: 0.3926 - val_accuracy: 0.8617\n",
            "Epoch 38/40\n",
            "48000/48000 [==============================] - 5s 96us/sample - loss: 0.3936 - accuracy: 0.8606 - val_loss: 0.3903 - val_accuracy: 0.8633\n",
            "Epoch 39/40\n",
            "48000/48000 [==============================] - 5s 98us/sample - loss: 0.3919 - accuracy: 0.8611 - val_loss: 0.3907 - val_accuracy: 0.8618\n",
            "Epoch 40/40\n",
            "48000/48000 [==============================] - 5s 101us/sample - loss: 0.3903 - accuracy: 0.8612 - val_loss: 0.3876 - val_accuracy: 0.8630\n"
          ]
        }
      ]
    },
    {
      "cell_type": "code",
      "source": [
        "print(history.history.keys())"
      ],
      "metadata": {
        "colab": {
          "base_uri": "https://localhost:8080/"
        },
        "id": "5yAUpKOMUYq_",
        "outputId": "b80a164b-6bb4-490a-fe0f-1a14da93bf8c"
      },
      "execution_count": 75,
      "outputs": [
        {
          "output_type": "stream",
          "name": "stdout",
          "text": [
            "dict_keys(['loss', 'accuracy', 'val_loss', 'val_accuracy'])\n"
          ]
        }
      ]
    },
    {
      "cell_type": "code",
      "source": [
        "plt.plot(history.history['loss'])\n",
        "plt.plot(history.history['val_loss'])\n",
        "plt.ylabel('loss')\n",
        "plt.xlabel('epoch')\n",
        "plt.legend(['train_loss', 'val_loss'])\n",
        "plt.show()"
      ],
      "metadata": {
        "colab": {
          "base_uri": "https://localhost:8080/",
          "height": 279
        },
        "id": "o5HCkY0yY60R",
        "outputId": "86f1848f-0e1b-4e09-d745-84d7dacd6553"
      },
      "execution_count": 76,
      "outputs": [
        {
          "output_type": "display_data",
          "data": {
            "text/plain": [
              "<Figure size 432x288 with 1 Axes>"
            ],
            "image/png": "[encoded data removed]"
          },
          "metadata": {
            "needs_background": "light"
          }
        }
      ]
    },
    {
      "cell_type": "code",
      "source": [
        "plt.plot(history.history['accuracy'])\n",
        "plt.plot(history.history['val_accuracy'])\n",
        "plt.ylabel('loss')\n",
        "plt.xlabel('epoch')\n",
        "plt.legend(['train_accuracy', 'val_acuracy'])\n",
        "plt.show()"
      ],
      "metadata": {
        "colab": {
          "base_uri": "https://localhost:8080/",
          "height": 279
        },
        "id": "6flgWZVPZO-O",
        "outputId": "82132d14-c8c9-42cc-da2c-46c41a93d641"
      },
      "execution_count": 77,
      "outputs": [
        {
          "output_type": "display_data",
          "data": {
            "text/plain": [
              "<Figure size 432x288 with 1 Axes>"
            ],
            "image/png": "[encoded data removed]"
          },
          "metadata": {
            "needs_background": "light"
          }
        }
      ]
    },
    {
      "cell_type": "code",
      "source": [
        "loss, accuracy = model.evaluate(x_val, y_val_encoded, verbose = 0)\n",
        "print(accuracy)"
      ],
      "metadata": {
        "colab": {
          "base_uri": "https://localhost:8080/"
        },
        "id": "e12rNj1EZbk0",
        "outputId": "5e314fc0-1b83-47f8-cdb6-2823d750b07e"
      },
      "execution_count": 78,
      "outputs": [
        {
          "output_type": "stream",
          "name": "stdout",
          "text": [
            "0.863\n"
          ]
        }
      ]
    }
  ]
}