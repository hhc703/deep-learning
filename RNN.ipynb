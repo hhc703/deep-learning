{
  "nbformat": 4,
  "nbformat_minor": 0,
  "metadata": {
    "colab": {
      "name": "2022/04/27/RNN.ipynb",
      "provenance": [],
      "collapsed_sections": [],
      "authorship_tag": "ABX9TyOFajny1Yfn9JbXwfQ08Rql",
      "include_colab_link": true
    },
    "kernelspec": {
      "name": "python3",
      "display_name": "Python 3"
    },
    "language_info": {
      "name": "python"
    }
  },
  "cells": [
    {
      "cell_type": "markdown",
      "metadata": {
        "id": "view-in-github",
        "colab_type": "text"
      },
      "source": [
        "<a href=\"https://colab.research.google.com/github/hhc703/deep-learning/blob/main/RNN.ipynb\" target=\"_parent\"><img src=\"https://colab.research.google.com/assets/colab-badge.svg\" alt=\"Open In Colab\"/></a>"
      ]
    },
    {
      "cell_type": "markdown",
      "source": [
        "순환 신경망"
      ],
      "metadata": {
        "id": "GrJfefgLnXV2"
      }
    },
    {
      "cell_type": "markdown",
      "source": [
        "데이터 셋 준비"
      ],
      "metadata": {
        "id": "5ccl0q4enybN"
      }
    },
    {
      "cell_type": "code",
      "execution_count": 17,
      "metadata": {
        "id": "oFOogZzMh3Dt"
      },
      "outputs": [],
      "source": [
        "import tensorflow as tf\n",
        "import numpy as np\n",
        "from tensorflow.keras.datasets import imdb\n",
        "\n",
        "(x_train_all, y_train_all),(x_test, y_test) = imdb.load_data(skip_top=20, num_words=100) #imdb 인터넷 영화 데이터베이스에서 수집한 영화 리뷰 데이터"
      ]
    },
    {
      "cell_type": "code",
      "source": [
        "print(x_train_all.shape, y_train_all.shape) #훈련 세트 크기 확인"
      ],
      "metadata": {
        "colab": {
          "base_uri": "https://localhost:8080/"
        },
        "id": "N30bHrmXnv19",
        "outputId": "bd246d74-e40e-400d-8257-2e255907b15e"
      },
      "execution_count": 18,
      "outputs": [
        {
          "output_type": "stream",
          "name": "stdout",
          "text": [
            "(25000,) (25000,)\n"
          ]
        }
      ]
    },
    {
      "cell_type": "code",
      "source": [
        "print(x_train_all[0]) #훈련 세트 샘플 확인"
      ],
      "metadata": {
        "colab": {
          "base_uri": "https://localhost:8080/"
        },
        "id": "ivrd3UsOo38W",
        "outputId": "cfb71294-7ca4-4047-f4fd-fcb1274baa62"
      },
      "execution_count": 19,
      "outputs": [
        {
          "output_type": "stream",
          "name": "stdout",
          "text": [
            "[2, 2, 22, 2, 43, 2, 2, 2, 2, 65, 2, 2, 66, 2, 2, 2, 36, 2, 2, 25, 2, 43, 2, 2, 50, 2, 2, 2, 35, 2, 2, 2, 2, 2, 2, 2, 2, 2, 2, 2, 39, 2, 2, 2, 2, 2, 2, 38, 2, 2, 2, 2, 50, 2, 2, 2, 2, 2, 2, 22, 2, 2, 2, 2, 2, 22, 71, 87, 2, 2, 43, 2, 38, 76, 2, 2, 2, 2, 22, 2, 2, 2, 2, 2, 2, 2, 2, 2, 62, 2, 2, 2, 2, 2, 2, 2, 2, 2, 2, 2, 2, 66, 2, 33, 2, 2, 2, 2, 38, 2, 2, 25, 2, 51, 36, 2, 48, 25, 2, 33, 2, 22, 2, 2, 28, 77, 52, 2, 2, 2, 2, 82, 2, 2, 2, 2, 2, 2, 2, 2, 2, 2, 2, 2, 2, 2, 36, 71, 43, 2, 2, 26, 2, 2, 46, 2, 2, 2, 2, 2, 2, 88, 2, 2, 2, 2, 98, 32, 2, 56, 26, 2, 2, 2, 2, 2, 2, 2, 22, 21, 2, 2, 26, 2, 2, 2, 30, 2, 2, 51, 36, 28, 2, 92, 25, 2, 2, 2, 65, 2, 38, 2, 88, 2, 2, 2, 2, 2, 2, 2, 2, 32, 2, 2, 2, 2, 2, 32]\n"
          ]
        }
      ]
    },
    {
      "cell_type": "code",
      "source": [
        "for i in range(len(x_train_all)): #2까지의 수 잘라내기\n",
        "  x_train_all[i] = [w for w in x_train_all[i] if w > 2]\n",
        "print(x_train_all[0])"
      ],
      "metadata": {
        "colab": {
          "base_uri": "https://localhost:8080/"
        },
        "id": "SKCULivco_r_",
        "outputId": "c6b309b7-3519-43af-c252-f43313b515c1"
      },
      "execution_count": 20,
      "outputs": [
        {
          "output_type": "stream",
          "name": "stdout",
          "text": [
            "[22, 43, 65, 66, 36, 25, 43, 50, 35, 39, 38, 50, 22, 22, 71, 87, 43, 38, 76, 22, 62, 66, 33, 38, 25, 51, 36, 48, 25, 33, 22, 28, 77, 52, 82, 36, 71, 43, 26, 46, 88, 98, 32, 56, 26, 22, 21, 26, 30, 51, 36, 28, 92, 25, 65, 38, 88, 32, 32]\n"
          ]
        }
      ]
    },
    {
      "cell_type": "code",
      "source": [
        "word_to_index = imdb.get_word_index() #어휘 사전 받기\n",
        "word_to_index['movie']"
      ],
      "metadata": {
        "colab": {
          "base_uri": "https://localhost:8080/"
        },
        "id": "FICkYSP7pxJ2",
        "outputId": "1e15250b-47d3-4f1e-f3a9-fb0320ae5d58"
      },
      "execution_count": 21,
      "outputs": [
        {
          "output_type": "execute_result",
          "data": {
            "text/plain": [
              "17"
            ]
          },
          "metadata": {},
          "execution_count": 21
        }
      ]
    },
    {
      "cell_type": "code",
      "source": [
        "index_to_word = {word_to_index[k]: k for k in word_to_index} #훈련 세트 데이터 영단어로 변환\n",
        "\n",
        "for w in x_train_all[0]:\n",
        "  print(index_to_word[w - 3], end=' ')"
      ],
      "metadata": {
        "colab": {
          "base_uri": "https://localhost:8080/"
        },
        "id": "GNPtXpCOp8tX",
        "outputId": "cf724211-ece1-476a-db39-b60a9ab1d79a"
      },
      "execution_count": 22,
      "outputs": [
        {
          "output_type": "stream",
          "name": "stdout",
          "text": [
            "film just story really they you just there an from so there film film were great just so much film would really at so you what they if you at film have been good also they were just are out because them all up are film but are be what they have don't you story so because all all "
          ]
        }
      ]
    },
    {
      "cell_type": "code",
      "source": [
        "print(len(x_train_all[0]), len(x_train_all[1]))"
      ],
      "metadata": {
        "colab": {
          "base_uri": "https://localhost:8080/"
        },
        "id": "PdMVoIfzqPDB",
        "outputId": "f0f37a75-2c2b-4fce-d8d2-bbc93086385e"
      },
      "execution_count": 23,
      "outputs": [
        {
          "output_type": "stream",
          "name": "stdout",
          "text": [
            "59 32\n"
          ]
        }
      ]
    },
    {
      "cell_type": "code",
      "source": [
        "print(y_train_all[:10])"
      ],
      "metadata": {
        "colab": {
          "base_uri": "https://localhost:8080/"
        },
        "id": "qJPqSEy6qWDO",
        "outputId": "c83b6f16-ae82-45ac-bef7-c512f786f934"
      },
      "execution_count": 24,
      "outputs": [
        {
          "output_type": "stream",
          "name": "stdout",
          "text": [
            "[1 0 0 1 0 0 1 0 1 0]\n"
          ]
        }
      ]
    },
    {
      "cell_type": "code",
      "source": [
        "#검증 세트 준비\n",
        "np.random.seed(42)  \n",
        "random_index = np.random.permutation(25000)\n",
        "\n",
        "x_train = x_train_all[random_index[:20000]]\n",
        "y_train = y_train_all[random_index[:20000]]\n",
        "x_val = x_train_all[random_index[20000:]]\n",
        "y_val = y_train_all[random_index[20000:]]"
      ],
      "metadata": {
        "id": "m5rMeP3GqtPS"
      },
      "execution_count": 25,
      "outputs": []
    },
    {
      "cell_type": "code",
      "source": [
        "from tensorflow.keras.preprocessing import sequence #샘플의 길이를 맞추기 위한 도구\n",
        "\n",
        "maxlen=100\n",
        "x_train_seq = sequence.pad_sequences(x_train, maxlen=maxlen)\n",
        "x_val_seq = sequence.pad_sequences(x_val, maxlen=maxlen)"
      ],
      "metadata": {
        "id": "5jr75oAprJxS"
      },
      "execution_count": 26,
      "outputs": []
    },
    {
      "cell_type": "code",
      "source": [
        "print(x_train_seq.shape, x_val_seq.shape)"
      ],
      "metadata": {
        "colab": {
          "base_uri": "https://localhost:8080/"
        },
        "id": "mNkhTyFDrqDh",
        "outputId": "dc05041b-1b0b-41e4-d254-aaaec6aa734f"
      },
      "execution_count": 27,
      "outputs": [
        {
          "output_type": "stream",
          "name": "stdout",
          "text": [
            "(20000, 100) (5000, 100)\n"
          ]
        }
      ]
    },
    {
      "cell_type": "code",
      "source": [
        "print(x_train_seq[0])"
      ],
      "metadata": {
        "colab": {
          "base_uri": "https://localhost:8080/"
        },
        "id": "sSc7Jau9rwEA",
        "outputId": "eeebae81-e7d4-48b4-85fa-c052be4d9215"
      },
      "execution_count": 28,
      "outputs": [
        {
          "output_type": "stream",
          "name": "stdout",
          "text": [
            "[ 0  0  0  0  0  0  0  0  0  0  0  0  0  0  0  0  0  0  0  0  0  0  0  0\n",
            "  0  0  0  0  0  0  0  0  0  0  0  0  0  0  0  0  0  0  0  0  0  0  0  0\n",
            "  0  0  0  0  0  0  0  0  0  0  0  0  0  0 35 40 27 28 40 22 83 31 85 45\n",
            " 24 23 31 70 31 76 30 98 32 22 28 51 75 56 30 33 97 53 38 46 53 74 31 35\n",
            " 23 34 22 58]\n"
          ]
        }
      ]
    },
    {
      "cell_type": "code",
      "source": [
        "#원 - 핫 인코딩\n",
        "from tensorflow.keras.utils import to_categorical\n",
        "\n",
        "x_train_onehot = to_categorical(x_train_seq)\n",
        "x_val_onehot = to_categorical(x_val_seq)"
      ],
      "metadata": {
        "id": "5Nc_O8JlrzJ-"
      },
      "execution_count": 29,
      "outputs": []
    },
    {
      "cell_type": "code",
      "source": [
        "print(x_train_onehot.shape)"
      ],
      "metadata": {
        "colab": {
          "base_uri": "https://localhost:8080/"
        },
        "id": "5ekpbSuns8OA",
        "outputId": "d02cf64b-7f63-4530-c2e5-5cf61036c0ab"
      },
      "execution_count": 30,
      "outputs": [
        {
          "output_type": "stream",
          "name": "stdout",
          "text": [
            "(20000, 100, 100)\n"
          ]
        }
      ]
    },
    {
      "cell_type": "code",
      "source": [
        "print(x_train_onehot.nbytes)"
      ],
      "metadata": {
        "colab": {
          "base_uri": "https://localhost:8080/"
        },
        "id": "Ovl5Hx1gs_mF",
        "outputId": "b0d304d4-6b76-450c-b9d8-9fab0fd1aabd"
      },
      "execution_count": 31,
      "outputs": [
        {
          "output_type": "stream",
          "name": "stdout",
          "text": [
            "800000000\n"
          ]
        }
      ]
    },
    {
      "cell_type": "markdown",
      "source": [
        "순환 신경망 클래스 구현"
      ],
      "metadata": {
        "id": "hFMPREQ4tHDm"
      }
    },
    {
      "cell_type": "code",
      "source": [
        "class RecurrentNetwork:\n",
        "\n",
        "  def __init__(self, n_cells=10, batch_size=32, learning_rate=0.1):\n",
        "    self.n_cells = n_cells        #셀 개수\n",
        "    self.batch_size = batch_size  #배치 크기\n",
        "    self.w1h = None               #은닉 상태에 대한 가중치\n",
        "    self.w1x = None               #입력에 대한 가중치\n",
        "    self.b1 = None                #순환층의 절편\n",
        "    self.w2 = None                #출력층의 가중치\n",
        "    self.b2 = None                #출력층의 절편\n",
        "    self.h = None                 #순환층의 활성화 출력\n",
        "    self.losses = []              #훈련 손실\n",
        "    self.val_losses = []          #검증 손실\n",
        "    self.lr = learning_rate       #학습률\n",
        "\n",
        "  def forpass(self, x):\n",
        "    self.h = [np.zeros((x.shape[0], self.n_cells))] #은닉 상태 초기화\n",
        "    #배치 차원과 타임 스텝 차원 바꾸기\n",
        "    seq = np.swapaxes(x, 0, 1)\n",
        "    #순환층의 선형식 계산\n",
        "    for x in seq:\n",
        "      z1 = np.dot(x, self.w1x) + np.dot(self.h[-1], self.w1h) + self.b1\n",
        "      h = np.tanh(z1)                     #활성화 함수 적용\n",
        "      self.h.append(h)                    #역전파를 위해 은닉 상태 저장\n",
        "      z2 = np.dot(h, self.w2) + self.b2   #출력층의 선형식 계산\n",
        "    return z2\n",
        "\n",
        "  def backprop(self, x, err):\n",
        "    m = len(x)    #샘플 개수\n",
        "\n",
        "    #출력층의 가중치와 절편에 대한 그레이디언트 계산\n",
        "    w2_grad = np.dot(self.h[-1].T, err) / m\n",
        "    b2_grad = np.sum(err) / m\n",
        "    #배치 차원과 타임 스텝 차원 바꾸기\n",
        "    seq = np.swapaxes(x, 0, 1)\n",
        "\n",
        "    w1h_grad = w1x_grad = b1_grad = 0\n",
        "    #셀 직전까지 그레이디언트 계산\n",
        "    err_to_cell = np.dot(err, self.w2.T) * (1 - self.h[-1] ** 2)\n",
        "    #모든 타임 스텝을 거슬러 가면서 그레이디언트 전파\n",
        "    for x, h in zip(seq[::-1][:10], self.h[:-1][::-1][:10]):\n",
        "      w1h_grad += np.dot(h.T, err_to_cell)\n",
        "      w1x_grad += np.dot(x.T, err_to_cell)\n",
        "      b1_grad += np.sum(err_to_cell, axis=0)\n",
        "      #이전 타임 스텝의 셀 직전까지 그레이디언트 계산\n",
        "      err_to_cell = np.dot(err_to_cell, self.w1h) * (1 - h ** 2)\n",
        "\n",
        "    w1h_grad /= m\n",
        "    w1x_grad /= m\n",
        "    b1_grad /= m\n",
        "    \n",
        "    return w1h_grad, w1x_grad, b1_grad, w2_grad, b2_grad\n",
        "\n",
        "  def sigmoid(self, z):\n",
        "    a = 1 / (1 + np.exp(-z))  #시그모이드 계산\n",
        "    return a\n",
        "\n",
        "  def init_weights(self, n_features, n_classes):\n",
        "    orth_init = tf.initializers.Orthogonal()\n",
        "    glorot_init = tf.initializers.GlorotUniform()\n",
        "\n",
        "    self.w1h = orth_init((self.n_cells, self.n_cells)).numpy()  #(셀 개수, 셀 개수)\n",
        "    self.w1x = glorot_init((n_features, self.n_cells)).numpy()  #(특성 개수, 셀 개수)\n",
        "    self.b1 = np.zeros(self.n_cells)                            #은닉층의 크기\n",
        "    self.w2 = glorot_init((self.n_cells, n_classes)).numpy()    #(셀 개수, 클래스 개수)\n",
        "    self.b2 = np.zeros(n_classes)\n",
        "\n",
        "  def fit(self, x, y, epochs=100, x_val=None, y_val=None):\n",
        "    y = y.reshape(-1, 1)\n",
        "    y_val=y_val.reshape(-1, 1)\n",
        "    np.random.seed(42)\n",
        "    self.init_weights(x.shape[2], y.shape[1])   #은닉층과 출력층의 가중치 초기화\n",
        "\n",
        "    #에포크만큼 반복\n",
        "    for i in range(epochs):\n",
        "      print('에포크', i, end=' ')\n",
        "      #제너레이터 함수에서 반환한 미니 배치 순환\n",
        "      batch_losses = []\n",
        "      for x_batch, y_batch in self.gen_batch(x, y):\n",
        "        print('.', end='')\n",
        "        a = self.training(x_batch, y_batch)\n",
        "        #안전한 로그 계산을 위해 클리핑\n",
        "        a = np.clip(a, 1e-10, 1-1e-10)\n",
        "        #로그 손실과 규제 손실을 더하여 리스트에 추가\n",
        "        loss = np.mean(-(y_batch*np.log(a) + (1-y_batch)*np.log(1-a)))\n",
        "        batch_losses.append(loss)\n",
        "      print()\n",
        "      self.losses.append(np.mean(batch_losses))\n",
        "      #검증 세트에 대한 손실 계산\n",
        "      self.update_val_loss(x_val, y_val)\n",
        "\n",
        "  #미니 배치 제너레이터 함수\n",
        "  def gen_batch(self, x, y):\n",
        "    length = len(x)\n",
        "    bins = length // self.batch_size  #미니 배치 횟수\n",
        "    if length % self.batch_size:\n",
        "      bins += 1                       #나누어 떨어지지 않을 때\n",
        "    indexes = np.random.permutation(np.arange(len(x)))  #인덱스 섞기\n",
        "    x = x[indexes]\n",
        "    y = y[indexes]\n",
        "    for i in range(bins):\n",
        "      start = self.batch_size * i\n",
        "      end = self.batch_size * (i+1)\n",
        "      yield x[start:end], y[start:end]    #batch_size만큼 슬라이싱하여 반환\n",
        "\n",
        "  def training(self, x, y):\n",
        "    m = len(x)            #샘플 개수 저장\n",
        "    z = self.forpass(x)   #정방향 계산 수행\n",
        "    a = self.sigmoid(z)   #활성화 함수 적용\n",
        "    err = -(y - a)        #오차 계산\n",
        "    #오차 역전파하여 그레이디언트 계산\n",
        "    w1h_grad, w1x_grad, b1_grad, w2_grad, b2_grad = self.backprop(x, err)\n",
        "    #셀의 가중치와 절편 업데이트\n",
        "    self.w1h -= self.lr * w1h_grad\n",
        "    self.w1x -= self.lr * w1x_grad\n",
        "    self.b1 -= self.lr * b1_grad\n",
        "    #출력층의 가중치와 절편 업데이트\n",
        "    self.w2 -= self.lr * w2_grad\n",
        "    self.b2 -= self.lr * b2_grad\n",
        "    return a\n",
        "\n",
        "  def predict(self, x):\n",
        "    z = self.forpass(x) #정방향 계산 수행\n",
        "    return z > 0        #스텝함수 적용\n",
        "\n",
        "  def score(self, x, y):\n",
        "    #예측과 타깃 열 벡터를 비교하여 True의 비율을 반환\n",
        "    return np.mean(self.predict(x) == y.reshape(-1, 1))\n",
        "\n",
        "  def update_val_loss(self, x_val, y_val):\n",
        "    z = self.forpass(x_val)         #정방향 계산 수행\n",
        "    a = self.sigmoid(z)             #활성화 함수 적용\n",
        "    a = np.clip(a, 1e-10, 1-1e-10)  #출력값 클리핑\n",
        "    val_loss = np.mean(-(y_val*np.log(a) + (1-y_val)*np.log(1-a)))\n",
        "    self.val_losses.append(val_loss)"
      ],
      "metadata": {
        "id": "VgkfJiTptEB-"
      },
      "execution_count": 40,
      "outputs": []
    },
    {
      "cell_type": "code",
      "source": [
        "rn = RecurrentNetwork(n_cells=32, batch_size=32, learning_rate=0.01)\n",
        "rn.fit(x_train_onehot, y_train, epochs=20, x_val=x_val_onehot, y_val=y_val)"
      ],
      "metadata": {
        "colab": {
          "base_uri": "https://localhost:8080/"
        },
        "id": "y52AvFn52G_Z",
        "outputId": "29443d22-af78-4de1-b3c9-5e34413a9956"
      },
      "execution_count": 41,
      "outputs": [
        {
          "output_type": "stream",
          "name": "stdout",
          "text": [
            "에포크 0 .................................................................................................................................................................................................................................................................................................................................................................................................................................................................................................................................................................................................................................................\n",
            "에포크 1 .................................................................................................................................................................................................................................................................................................................................................................................................................................................................................................................................................................................................................................................\n",
            "에포크 2 .................................................................................................................................................................................................................................................................................................................................................................................................................................................................................................................................................................................................................................................\n",
            "에포크 3 .................................................................................................................................................................................................................................................................................................................................................................................................................................................................................................................................................................................................................................................\n",
            "에포크 4 .................................................................................................................................................................................................................................................................................................................................................................................................................................................................................................................................................................................................................................................\n",
            "에포크 5 .................................................................................................................................................................................................................................................................................................................................................................................................................................................................................................................................................................................................................................................\n",
            "에포크 6 .................................................................................................................................................................................................................................................................................................................................................................................................................................................................................................................................................................................................................................................\n",
            "에포크 7 .................................................................................................................................................................................................................................................................................................................................................................................................................................................................................................................................................................................................................................................\n",
            "에포크 8 .................................................................................................................................................................................................................................................................................................................................................................................................................................................................................................................................................................................................................................................\n",
            "에포크 9 .................................................................................................................................................................................................................................................................................................................................................................................................................................................................................................................................................................................................................................................\n",
            "에포크 10 .................................................................................................................................................................................................................................................................................................................................................................................................................................................................................................................................................................................................................................................\n",
            "에포크 11 .................................................................................................................................................................................................................................................................................................................................................................................................................................................................................................................................................................................................................................................\n",
            "에포크 12 .................................................................................................................................................................................................................................................................................................................................................................................................................................................................................................................................................................................................................................................\n",
            "에포크 13 .................................................................................................................................................................................................................................................................................................................................................................................................................................................................................................................................................................................................................................................\n",
            "에포크 14 .................................................................................................................................................................................................................................................................................................................................................................................................................................................................................................................................................................................................................................................\n",
            "에포크 15 .................................................................................................................................................................................................................................................................................................................................................................................................................................................................................................................................................................................................................................................\n",
            "에포크 16 .................................................................................................................................................................................................................................................................................................................................................................................................................................................................................................................................................................................................................................................\n",
            "에포크 17 .................................................................................................................................................................................................................................................................................................................................................................................................................................................................................................................................................................................................................................................\n",
            "에포크 18 .................................................................................................................................................................................................................................................................................................................................................................................................................................................................................................................................................................................................................................................\n",
            "에포크 19 .................................................................................................................................................................................................................................................................................................................................................................................................................................................................................................................................................................................................................................................\n"
          ]
        }
      ]
    },
    {
      "cell_type": "code",
      "source": [
        "import matplotlib.pyplot as plt\n",
        "\n",
        "plt.plot(rn.losses)\n",
        "plt.plot(rn.val_losses)\n",
        "plt.show()"
      ],
      "metadata": {
        "colab": {
          "base_uri": "https://localhost:8080/",
          "height": 265
        },
        "id": "VlExSgpi2dez",
        "outputId": "52c1c199-c6f4-4e6e-e608-74d4a8b613d3"
      },
      "execution_count": 42,
      "outputs": [
        {
          "output_type": "display_data",
          "data": {
            "text/plain": [
              "<Figure size 432x288 with 1 Axes>"
            ],
            "image/png": "[encoded data removed]"
          },
          "metadata": {
            "needs_background": "light"
          }
        }
      ]
    },
    {
      "cell_type": "code",
      "source": [
        "rn.score(x_val_onehot, y_val)"
      ],
      "metadata": {
        "colab": {
          "base_uri": "https://localhost:8080/"
        },
        "id": "lYoqU7Lu4k2V",
        "outputId": "b6fbeddb-5a3c-40f0-bfa0-34c160a4587d"
      },
      "execution_count": 43,
      "outputs": [
        {
          "output_type": "execute_result",
          "data": {
            "text/plain": [
              "0.6808"
            ]
          },
          "metadata": {},
          "execution_count": 43
        }
      ]
    },
    {
      "cell_type": "markdown",
      "source": [
        "텐서플로로 순환 신경망 만들기"
      ],
      "metadata": {
        "id": "Hr6kTfGx5Ts6"
      }
    },
    {
      "cell_type": "code",
      "source": [
        "from tensorflow.keras.models import Sequential\n",
        "from tensorflow.keras.layers import Dense, SimpleRNN"
      ],
      "metadata": {
        "id": "hYmOVaky4rF2"
      },
      "execution_count": 44,
      "outputs": []
    },
    {
      "cell_type": "code",
      "source": [
        "model = Sequential()\n",
        "\n",
        "model.add(SimpleRNN(32, input_shape=(100, 100)))\n",
        "model.add(Dense(1, activation='sigmoid'))\n",
        "\n",
        "model.summary()"
      ],
      "metadata": {
        "colab": {
          "base_uri": "https://localhost:8080/"
        },
        "id": "DaCFjPni5iMN",
        "outputId": "9525024d-a9f5-40a0-f4f9-cbaeaf99c178"
      },
      "execution_count": 45,
      "outputs": [
        {
          "output_type": "stream",
          "name": "stdout",
          "text": [
            "Model: \"sequential\"\n",
            "_________________________________________________________________\n",
            " Layer (type)                Output Shape              Param #   \n",
            "=================================================================\n",
            " simple_rnn (SimpleRNN)      (None, 32)                4256      \n",
            "                                                                 \n",
            " dense (Dense)               (None, 1)                 33        \n",
            "                                                                 \n",
            "=================================================================\n",
            "Total params: 4,289\n",
            "Trainable params: 4,289\n",
            "Non-trainable params: 0\n",
            "_________________________________________________________________\n"
          ]
        }
      ]
    },
    {
      "cell_type": "code",
      "source": [
        "model.compile(optimizer='sgd', loss='binary_crossentropy', metrics=['accuracy'])\n",
        "\n",
        "history = model.fit(x_train_onehot, y_train, epochs=20, batch_size=32, validation_data=(x_val_onehot, y_val))"
      ],
      "metadata": {
        "colab": {
          "base_uri": "https://localhost:8080/"
        },
        "id": "BTxgtH6E5yM7",
        "outputId": "01bcf78a-54c0-438f-feb2-0f517ba7dd83"
      },
      "execution_count": 46,
      "outputs": [
        {
          "output_type": "stream",
          "name": "stdout",
          "text": [
            "Epoch 1/20\n",
            "625/625 [==============================] - 15s 20ms/step - loss: 0.7015 - accuracy: 0.5017 - val_loss: 0.6954 - val_accuracy: 0.5132\n",
            "Epoch 2/20\n",
            "625/625 [==============================] - 12s 20ms/step - loss: 0.6916 - accuracy: 0.5257 - val_loss: 0.6897 - val_accuracy: 0.5332\n",
            "Epoch 3/20\n",
            "625/625 [==============================] - 12s 20ms/step - loss: 0.6876 - accuracy: 0.5420 - val_loss: 0.6815 - val_accuracy: 0.5636\n",
            "Epoch 4/20\n",
            "625/625 [==============================] - 12s 20ms/step - loss: 0.6748 - accuracy: 0.5788 - val_loss: 0.6547 - val_accuracy: 0.6196\n",
            "Epoch 5/20\n",
            "625/625 [==============================] - 12s 20ms/step - loss: 0.6511 - accuracy: 0.6198 - val_loss: 0.6663 - val_accuracy: 0.5886\n",
            "Epoch 6/20\n",
            "625/625 [==============================] - 12s 20ms/step - loss: 0.6310 - accuracy: 0.6502 - val_loss: 0.6375 - val_accuracy: 0.6376\n",
            "Epoch 7/20\n",
            "625/625 [==============================] - 12s 20ms/step - loss: 0.6144 - accuracy: 0.6611 - val_loss: 0.5910 - val_accuracy: 0.6852\n",
            "Epoch 8/20\n",
            "625/625 [==============================] - 13s 20ms/step - loss: 0.6038 - accuracy: 0.6755 - val_loss: 0.5817 - val_accuracy: 0.7002\n",
            "Epoch 9/20\n",
            "625/625 [==============================] - 12s 20ms/step - loss: 0.6001 - accuracy: 0.6824 - val_loss: 0.5941 - val_accuracy: 0.6850\n",
            "Epoch 10/20\n",
            "625/625 [==============================] - 12s 20ms/step - loss: 0.5889 - accuracy: 0.6920 - val_loss: 0.5858 - val_accuracy: 0.6906\n",
            "Epoch 11/20\n",
            "625/625 [==============================] - 12s 20ms/step - loss: 0.5869 - accuracy: 0.6967 - val_loss: 0.6072 - val_accuracy: 0.6768\n",
            "Epoch 12/20\n",
            "625/625 [==============================] - 12s 19ms/step - loss: 0.5836 - accuracy: 0.6956 - val_loss: 0.6067 - val_accuracy: 0.6698\n",
            "Epoch 13/20\n",
            "625/625 [==============================] - 12s 19ms/step - loss: 0.5791 - accuracy: 0.6993 - val_loss: 0.5993 - val_accuracy: 0.6830\n",
            "Epoch 14/20\n",
            "625/625 [==============================] - 12s 19ms/step - loss: 0.5760 - accuracy: 0.7025 - val_loss: 0.6254 - val_accuracy: 0.6664\n",
            "Epoch 15/20\n",
            "625/625 [==============================] - 12s 19ms/step - loss: 0.5755 - accuracy: 0.7024 - val_loss: 0.5900 - val_accuracy: 0.6890\n",
            "Epoch 16/20\n",
            "625/625 [==============================] - 12s 19ms/step - loss: 0.5724 - accuracy: 0.7042 - val_loss: 0.5831 - val_accuracy: 0.6904\n",
            "Epoch 17/20\n",
            "625/625 [==============================] - 12s 19ms/step - loss: 0.5708 - accuracy: 0.7042 - val_loss: 0.5740 - val_accuracy: 0.7002\n",
            "Epoch 18/20\n",
            "625/625 [==============================] - 12s 19ms/step - loss: 0.5694 - accuracy: 0.7077 - val_loss: 0.6148 - val_accuracy: 0.6844\n",
            "Epoch 19/20\n",
            "625/625 [==============================] - 12s 19ms/step - loss: 0.5652 - accuracy: 0.7075 - val_loss: 0.5786 - val_accuracy: 0.6972\n",
            "Epoch 20/20\n",
            "625/625 [==============================] - 12s 19ms/step - loss: 0.5668 - accuracy: 0.7054 - val_loss: 0.5644 - val_accuracy: 0.7090\n"
          ]
        }
      ]
    },
    {
      "cell_type": "code",
      "source": [
        "plt.plot(history.history['loss'])\n",
        "plt.plot(history.history['val_loss'])\n",
        "plt.show()\n",
        "\n",
        "plt.plot(history.history['accuracy'])\n",
        "plt.plot(history.history['val_accuracy'])\n",
        "plt.show()"
      ],
      "metadata": {
        "colab": {
          "base_uri": "https://localhost:8080/",
          "height": 513
        },
        "id": "ZvOxzMLh7ctY",
        "outputId": "6328e5c9-25d9-402e-f16c-a310360800a4"
      },
      "execution_count": 47,
      "outputs": [
        {
          "output_type": "display_data",
          "data": {
            "text/plain": [
              "<Figure size 432x288 with 1 Axes>"
            ],
            "image/png": "[encoded data removed]"
          },
          "metadata": {
            "needs_background": "light"
          }
        },
        {
          "output_type": "display_data",
          "data": {
            "text/plain": [
              "<Figure size 432x288 with 1 Axes>"
            ],
            "image/png": "[encoded data removed]"
          },
          "metadata": {
            "needs_background": "light"
          }
        }
      ]
    },
    {
      "cell_type": "code",
      "source": [
        "loss, accuracy = model.evaluate(x_val_onehot, y_val, verbose=0)\n",
        "\n",
        "print(accuracy)"
      ],
      "metadata": {
        "colab": {
          "base_uri": "https://localhost:8080/"
        },
        "id": "CEl77iIm83xB",
        "outputId": "d37c3bbf-03de-4783-afd1-ca118bfadd31"
      },
      "execution_count": 49,
      "outputs": [
        {
          "output_type": "stream",
          "name": "stdout",
          "text": [
            "0.7089999914169312\n"
          ]
        }
      ]
    },
    {
      "cell_type": "markdown",
      "source": [
        "임베딩층으로 성능 높이기"
      ],
      "metadata": {
        "id": "YCPKolwE9S0r"
      }
    },
    {
      "cell_type": "code",
      "source": [
        "from tensorflow.keras.layers import Embedding"
      ],
      "metadata": {
        "id": "wKOFE2To9BTm"
      },
      "execution_count": 50,
      "outputs": []
    },
    {
      "cell_type": "code",
      "source": [
        "(x_train_all, y_train_all), (x_test, y_test) = imdb.load_data(skip_top=20, num_words=1000)\n",
        "\n",
        "for i in range(len(x_train_all)):\n",
        "  x_train_all[i] = [w for w in x_train_all[i] if w > 2]\n",
        "\n",
        "x_train = x_train_all[random_index[:20000]]\n",
        "y_train = y_train_all[random_index[:20000]]\n",
        "x_val = x_train_all[random_index[20000:]]\n",
        "y_val = y_train_all[random_index[20000:]]"
      ],
      "metadata": {
        "id": "1PGcljGx9aty"
      },
      "execution_count": 51,
      "outputs": []
    },
    {
      "cell_type": "code",
      "source": [
        "maxlen = 100\n",
        "x_train_seq = sequence.pad_sequences(x_train, maxlen=maxlen)\n",
        "x_val_seq = sequence.pad_sequences(x_val, maxlen=maxlen)"
      ],
      "metadata": {
        "id": "djORxBUm-LMd"
      },
      "execution_count": 52,
      "outputs": []
    },
    {
      "cell_type": "code",
      "source": [
        "model_ebd = Sequential()\n",
        "\n",
        "model_ebd.add(Embedding(1000, 32))\n",
        "model_ebd.add(SimpleRNN(8))\n",
        "model_ebd.add(Dense(1, activation='sigmoid'))\n",
        "\n",
        "model_ebd.summary()"
      ],
      "metadata": {
        "colab": {
          "base_uri": "https://localhost:8080/"
        },
        "id": "g4VwsHvP-Z6H",
        "outputId": "d74b1811-9faf-416b-b5ca-841434574de0"
      },
      "execution_count": 53,
      "outputs": [
        {
          "output_type": "stream",
          "name": "stdout",
          "text": [
            "Model: \"sequential_1\"\n",
            "_________________________________________________________________\n",
            " Layer (type)                Output Shape              Param #   \n",
            "=================================================================\n",
            " embedding (Embedding)       (None, None, 32)          32000     \n",
            "                                                                 \n",
            " simple_rnn_1 (SimpleRNN)    (None, 8)                 328       \n",
            "                                                                 \n",
            " dense_1 (Dense)             (None, 1)                 9         \n",
            "                                                                 \n",
            "=================================================================\n",
            "Total params: 32,337\n",
            "Trainable params: 32,337\n",
            "Non-trainable params: 0\n",
            "_________________________________________________________________\n"
          ]
        }
      ]
    },
    {
      "cell_type": "code",
      "source": [
        "model_ebd.compile(optimizer='adam', loss='binary_crossentropy', metrics=['accuracy'])\n",
        "\n",
        "history = model_ebd.fit(x_train_seq, y_train, epochs=10, batch_size=32, validation_data=(x_val_seq, y_val))"
      ],
      "metadata": {
        "colab": {
          "base_uri": "https://localhost:8080/"
        },
        "id": "KxHw668t-wgX",
        "outputId": "b1745162-44cb-4856-da29-8a137fe32f2a"
      },
      "execution_count": 54,
      "outputs": [
        {
          "output_type": "stream",
          "name": "stdout",
          "text": [
            "Epoch 1/10\n",
            "625/625 [==============================] - 14s 20ms/step - loss: 0.5185 - accuracy: 0.7404 - val_loss: 0.4398 - val_accuracy: 0.8084\n",
            "Epoch 2/10\n",
            "625/625 [==============================] - 12s 20ms/step - loss: 0.3947 - accuracy: 0.8333 - val_loss: 0.4176 - val_accuracy: 0.8212\n",
            "Epoch 3/10\n",
            "625/625 [==============================] - 12s 20ms/step - loss: 0.3558 - accuracy: 0.8522 - val_loss: 0.4168 - val_accuracy: 0.8180\n",
            "Epoch 4/10\n",
            "625/625 [==============================] - 12s 20ms/step - loss: 0.3260 - accuracy: 0.8669 - val_loss: 0.4291 - val_accuracy: 0.8120\n",
            "Epoch 5/10\n",
            "625/625 [==============================] - 12s 20ms/step - loss: 0.2985 - accuracy: 0.8828 - val_loss: 0.4234 - val_accuracy: 0.8228\n",
            "Epoch 6/10\n",
            "625/625 [==============================] - 14s 23ms/step - loss: 0.2809 - accuracy: 0.8878 - val_loss: 0.4377 - val_accuracy: 0.8208\n",
            "Epoch 7/10\n",
            "625/625 [==============================] - 12s 20ms/step - loss: 0.2575 - accuracy: 0.9004 - val_loss: 0.4476 - val_accuracy: 0.8192\n",
            "Epoch 8/10\n",
            "625/625 [==============================] - 12s 20ms/step - loss: 0.2335 - accuracy: 0.9135 - val_loss: 0.4745 - val_accuracy: 0.8040\n",
            "Epoch 9/10\n",
            "625/625 [==============================] - 12s 20ms/step - loss: 0.2189 - accuracy: 0.9179 - val_loss: 0.4897 - val_accuracy: 0.8180\n",
            "Epoch 10/10\n",
            "625/625 [==============================] - 12s 20ms/step - loss: 0.2133 - accuracy: 0.9201 - val_loss: 0.4843 - val_accuracy: 0.8110\n"
          ]
        }
      ]
    },
    {
      "cell_type": "code",
      "source": [
        "plt.plot(history.history['loss'])\n",
        "plt.plot(history.history['val_loss'])\n",
        "plt.show()\n",
        "\n",
        "plt.plot(history.history['accuracy'])\n",
        "plt.plot(history.history['val_accuracy'])\n",
        "plt.show()"
      ],
      "metadata": {
        "colab": {
          "base_uri": "https://localhost:8080/",
          "height": 513
        },
        "id": "lpMkq3Yx_HfJ",
        "outputId": "47944cbb-14bd-4da5-dbc7-72e02f3ba849"
      },
      "execution_count": 55,
      "outputs": [
        {
          "output_type": "display_data",
          "data": {
            "text/plain": [
              "<Figure size 432x288 with 1 Axes>"
            ],
            "image/png": "[encoded data removed]"
          },
          "metadata": {
            "needs_background": "light"
          }
        },
        {
          "output_type": "display_data",
          "data": {
            "text/plain": [
              "<Figure size 432x288 with 1 Axes>"
            ],
            "image/png": "[encoded data removed]"
          },
          "metadata": {
            "needs_background": "light"
          }
        }
      ]
    },
    {
      "cell_type": "code",
      "source": [
        "loss, accuracy = model_ebd.evaluate(x_val_seq, y_val, verbose=0)\n",
        "print(accuracy)"
      ],
      "metadata": {
        "colab": {
          "base_uri": "https://localhost:8080/"
        },
        "id": "W73i54Yc_59F",
        "outputId": "5587d6bd-1922-4eb4-bbdf-6be84c5f93a1"
      },
      "execution_count": 56,
      "outputs": [
        {
          "output_type": "stream",
          "name": "stdout",
          "text": [
            "0.8109999895095825\n"
          ]
        }
      ]
    },
    {
      "cell_type": "markdown",
      "source": [
        "LSTM 순환 신경망"
      ],
      "metadata": {
        "id": "XtjAs-iKAJZs"
      }
    },
    {
      "cell_type": "code",
      "source": [
        "from tensorflow.keras.layers import LSTM\n",
        "\n",
        "model_lstm = Sequential()\n",
        "\n",
        "model_lstm.add(Embedding(1000, 32))\n",
        "model_lstm.add(LSTM(8))\n",
        "model_lstm.add(Dense(1, activation='sigmoid'))\n",
        "\n",
        "model_lstm.summary()"
      ],
      "metadata": {
        "colab": {
          "base_uri": "https://localhost:8080/"
        },
        "id": "1xBLV5h8AHHT",
        "outputId": "85f0af40-7f3e-4299-c57c-a4938cf2b1c1"
      },
      "execution_count": 57,
      "outputs": [
        {
          "output_type": "stream",
          "name": "stdout",
          "text": [
            "Model: \"sequential_2\"\n",
            "_________________________________________________________________\n",
            " Layer (type)                Output Shape              Param #   \n",
            "=================================================================\n",
            " embedding_1 (Embedding)     (None, None, 32)          32000     \n",
            "                                                                 \n",
            " lstm (LSTM)                 (None, 8)                 1312      \n",
            "                                                                 \n",
            " dense_2 (Dense)             (None, 1)                 9         \n",
            "                                                                 \n",
            "=================================================================\n",
            "Total params: 33,321\n",
            "Trainable params: 33,321\n",
            "Non-trainable params: 0\n",
            "_________________________________________________________________\n"
          ]
        }
      ]
    },
    {
      "cell_type": "code",
      "source": [
        "model_lstm.compile(optimizer='adam', loss='binary_crossentropy', metrics=['accuracy'])\n",
        "\n",
        "history = model_lstm.fit(x_train_seq, y_train, epochs=10, batch_size=32, validation_data=(x_val_seq, y_val))"
      ],
      "metadata": {
        "colab": {
          "base_uri": "https://localhost:8080/"
        },
        "id": "AQTnTmrsA9SC",
        "outputId": "bc7da987-e059-4a77-f635-aa0df12c317a"
      },
      "execution_count": 58,
      "outputs": [
        {
          "output_type": "stream",
          "name": "stdout",
          "text": [
            "Epoch 1/10\n",
            "625/625 [==============================] - 19s 28ms/step - loss: 0.4607 - accuracy: 0.7905 - val_loss: 0.3783 - val_accuracy: 0.8378\n",
            "Epoch 2/10\n",
            "625/625 [==============================] - 17s 27ms/step - loss: 0.3391 - accuracy: 0.8572 - val_loss: 0.3624 - val_accuracy: 0.8386\n",
            "Epoch 3/10\n",
            "625/625 [==============================] - 17s 27ms/step - loss: 0.3084 - accuracy: 0.8702 - val_loss: 0.3527 - val_accuracy: 0.8432\n",
            "Epoch 4/10\n",
            "625/625 [==============================] - 18s 29ms/step - loss: 0.2899 - accuracy: 0.8798 - val_loss: 0.3691 - val_accuracy: 0.8402\n",
            "Epoch 5/10\n",
            "625/625 [==============================] - 17s 27ms/step - loss: 0.2759 - accuracy: 0.8868 - val_loss: 0.3689 - val_accuracy: 0.8382\n",
            "Epoch 6/10\n",
            "625/625 [==============================] - 17s 27ms/step - loss: 0.2651 - accuracy: 0.8909 - val_loss: 0.3795 - val_accuracy: 0.8364\n",
            "Epoch 7/10\n",
            "625/625 [==============================] - 17s 28ms/step - loss: 0.2546 - accuracy: 0.8949 - val_loss: 0.3959 - val_accuracy: 0.8376\n",
            "Epoch 8/10\n",
            "625/625 [==============================] - 17s 28ms/step - loss: 0.2419 - accuracy: 0.8995 - val_loss: 0.3905 - val_accuracy: 0.8278\n",
            "Epoch 9/10\n",
            "625/625 [==============================] - 17s 27ms/step - loss: 0.2339 - accuracy: 0.9040 - val_loss: 0.4184 - val_accuracy: 0.8310\n",
            "Epoch 10/10\n",
            "625/625 [==============================] - 17s 28ms/step - loss: 0.2246 - accuracy: 0.9058 - val_loss: 0.4405 - val_accuracy: 0.8326\n"
          ]
        }
      ]
    },
    {
      "cell_type": "code",
      "source": [
        "plt.plot(history.history['loss'])\n",
        "plt.plot(history.history['val_loss'])\n",
        "plt.show()\n",
        "\n",
        "plt.plot(history.history['accuracy'])\n",
        "plt.plot(history.history['val_accuracy'])\n",
        "plt.show()"
      ],
      "metadata": {
        "colab": {
          "base_uri": "https://localhost:8080/",
          "height": 513
        },
        "id": "rXFxm4tqBZam",
        "outputId": "5573f09e-123c-421e-8282-10e0ab2a5d3f"
      },
      "execution_count": 59,
      "outputs": [
        {
          "output_type": "display_data",
          "data": {
            "text/plain": [
              "<Figure size 432x288 with 1 Axes>"
            ],
            "image/png": "[encoded data removed]"
          },
          "metadata": {
            "needs_background": "light"
          }
        },
        {
          "output_type": "display_data",
          "data": {
            "text/plain": [
              "<Figure size 432x288 with 1 Axes>"
            ],
            "image/png": "[encoded data removed]"
          },
          "metadata": {
            "needs_background": "light"
          }
        }
      ]
    },
    {
      "cell_type": "code",
      "source": [
        "loss, accuracy = model_lstm.evaluate(x_val_seq, y_val, verbose=0)\n",
        "print(accuracy)"
      ],
      "metadata": {
        "colab": {
          "base_uri": "https://localhost:8080/"
        },
        "id": "eWlxdxORG0Zj",
        "outputId": "12ad5bdc-44b7-403e-e0df-5dcb0be8af07"
      },
      "execution_count": 60,
      "outputs": [
        {
          "output_type": "stream",
          "name": "stdout",
          "text": [
            "0.8325999975204468\n"
          ]
        }
      ]
    }
  ]
}