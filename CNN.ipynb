{
  "nbformat": 4,
  "nbformat_minor": 0,
  "metadata": {
    "colab": {
      "name": "2022/04/26/CNN.ipynb",
      "provenance": [],
      "collapsed_sections": [],
      "authorship_tag": "ABX9TyNkkOJRpFBUbfgrUo/rmSUH",
      "include_colab_link": true
    },
    "kernelspec": {
      "name": "python3",
      "display_name": "Python 3"
    },
    "language_info": {
      "name": "python"
    }
  },
  "cells": [
    {
      "cell_type": "markdown",
      "metadata": {
        "id": "view-in-github",
        "colab_type": "text"
      },
      "source": [
        "<a href=\"https://colab.research.google.com/github/hhc703/deep-learning/blob/main/CNN.ipynb\" target=\"_parent\"><img src=\"https://colab.research.google.com/assets/colab-badge.svg\" alt=\"Open In Colab\"/></a>"
      ]
    },
    {
      "cell_type": "markdown",
      "source": [
        "합성곱"
      ],
      "metadata": {
        "id": "lK1wEmqGSPpV"
      }
    },
    {
      "cell_type": "code",
      "execution_count": null,
      "metadata": {
        "id": "HFV0VajaRyPv"
      },
      "outputs": [],
      "source": [
        "import numpy as np\n",
        "w = np.array([2, 1, 5, 3])\n",
        "x = np.array([2, 8, 3, 7, 1, 2, 0, 4, 5])"
      ]
    },
    {
      "cell_type": "code",
      "source": [
        "w_r = np.flip(w) #배열을 뒤집어주는 함수\n",
        "print(w_r)"
      ],
      "metadata": {
        "colab": {
          "base_uri": "https://localhost:8080/"
        },
        "id": "dOfNwd34Sb8D",
        "outputId": "c74f679a-06ae-4a68-d8d5-7deb61fd3664"
      },
      "execution_count": null,
      "outputs": [
        {
          "output_type": "stream",
          "name": "stdout",
          "text": [
            "[3 5 1 2]\n"
          ]
        }
      ]
    },
    {
      "cell_type": "code",
      "source": [
        "w_r = w[::-1] #위 함수 인덱싱 구현\n",
        "print(w_r)"
      ],
      "metadata": {
        "colab": {
          "base_uri": "https://localhost:8080/"
        },
        "id": "oO7fsg_ZShqv",
        "outputId": "1f4e814f-9160-4122-aac6-77e8941ad6ac"
      },
      "execution_count": null,
      "outputs": [
        {
          "output_type": "stream",
          "name": "stdout",
          "text": [
            "[3 5 1 2]\n"
          ]
        }
      ]
    },
    {
      "cell_type": "code",
      "source": [
        "for i in range(6):\n",
        "  print(np.dot(x[i:i+4],w_r)) #합성곱"
      ],
      "metadata": {
        "colab": {
          "base_uri": "https://localhost:8080/"
        },
        "id": "rnX6r-PKbTlw",
        "outputId": "1c167af0-9bc3-4089-dc20-9191ed8a5fc0"
      },
      "execution_count": null,
      "outputs": [
        {
          "output_type": "stream",
          "name": "stdout",
          "text": [
            "63\n",
            "48\n",
            "49\n",
            "28\n",
            "21\n",
            "20\n"
          ]
        }
      ]
    },
    {
      "cell_type": "code",
      "source": [
        "from scipy.signal import convolve #사이파이 라이브러리의 합성곱 함수\n",
        "convolve(x, w, mode = 'valid')"
      ],
      "metadata": {
        "colab": {
          "base_uri": "https://localhost:8080/"
        },
        "id": "BM4UcaUpboaI",
        "outputId": "493c29c2-2617-4da6-c2ce-3edb71b766e6"
      },
      "execution_count": null,
      "outputs": [
        {
          "output_type": "execute_result",
          "data": {
            "text/plain": [
              "array([63, 48, 49, 28, 21, 20])"
            ]
          },
          "metadata": {},
          "execution_count": 6
        }
      ]
    },
    {
      "cell_type": "markdown",
      "source": [
        "교차상관"
      ],
      "metadata": {
        "id": "mrmOXiCicApr"
      }
    },
    {
      "cell_type": "code",
      "source": [
        "from scipy.signal import correlate #교차상관 함수\n",
        "correlate(x, w, mode = 'valid') #밸리드 패딩"
      ],
      "metadata": {
        "colab": {
          "base_uri": "https://localhost:8080/"
        },
        "id": "f2YzDNZcb0Q_",
        "outputId": "555967dc-70cb-4241-e883-a4735b07322a"
      },
      "execution_count": null,
      "outputs": [
        {
          "output_type": "execute_result",
          "data": {
            "text/plain": [
              "array([48, 57, 24, 25, 16, 39])"
            ]
          },
          "metadata": {},
          "execution_count": 7
        }
      ]
    },
    {
      "cell_type": "code",
      "source": [
        "correlate(x, w, mode = 'full') #풀 패딩"
      ],
      "metadata": {
        "colab": {
          "base_uri": "https://localhost:8080/"
        },
        "id": "BuQA5NUXcKIc",
        "outputId": "fdacfe03-b204-4b49-b459-8c016e5572d0"
      },
      "execution_count": null,
      "outputs": [
        {
          "output_type": "execute_result",
          "data": {
            "text/plain": [
              "array([ 6, 34, 51, 48, 57, 24, 25, 16, 39, 29, 13, 10])"
            ]
          },
          "metadata": {},
          "execution_count": 8
        }
      ]
    },
    {
      "cell_type": "code",
      "source": [
        "correlate(w, x, mode = 'same') #세임 패딩"
      ],
      "metadata": {
        "colab": {
          "base_uri": "https://localhost:8080/"
        },
        "id": "OCtVyYU-depg",
        "outputId": "fcdccfdf-b8be-473d-9e2c-d8b95f2e9cf5"
      },
      "execution_count": null,
      "outputs": [
        {
          "output_type": "execute_result",
          "data": {
            "text/plain": [
              "array([16, 25, 24, 57])"
            ]
          },
          "metadata": {},
          "execution_count": 9
        }
      ]
    },
    {
      "cell_type": "code",
      "source": [
        "x = np.array([[1, 2, 3],\n",
        "              [4, 5, 6],\n",
        "              [7, 8, 9]])\n",
        "w = np.array([[2, 0],[0, 0]])\n",
        "from scipy.signal import correlate2d\n",
        "correlate2d(x, w, mode = 'valid')"
      ],
      "metadata": {
        "colab": {
          "base_uri": "https://localhost:8080/"
        },
        "id": "Vx9eXVX-dmKt",
        "outputId": "04711b60-a1c6-429c-c6b3-cff3004683e4"
      },
      "execution_count": null,
      "outputs": [
        {
          "output_type": "execute_result",
          "data": {
            "text/plain": [
              "array([[ 2,  4],\n",
              "       [ 8, 10]])"
            ]
          },
          "metadata": {},
          "execution_count": 10
        }
      ]
    },
    {
      "cell_type": "code",
      "source": [
        "correlate2d(x, w, mode = 'same')"
      ],
      "metadata": {
        "colab": {
          "base_uri": "https://localhost:8080/"
        },
        "id": "gfNUVWEueI_b",
        "outputId": "84b3ab44-5c30-42e4-ee0f-1f2a37c05954"
      },
      "execution_count": null,
      "outputs": [
        {
          "output_type": "execute_result",
          "data": {
            "text/plain": [
              "array([[ 2,  4,  6],\n",
              "       [ 8, 10, 12],\n",
              "       [14, 16, 18]])"
            ]
          },
          "metadata": {},
          "execution_count": 11
        }
      ]
    },
    {
      "cell_type": "code",
      "source": [
        "import tensorflow as tf\n",
        "x_4d = x.astype(np.float).reshape(1, 3, 3, 1) #실수, 배열 변환\n",
        "w_4d = w.reshape(2, 2, 1, 1)"
      ],
      "metadata": {
        "colab": {
          "base_uri": "https://localhost:8080/"
        },
        "id": "nVIdrQJhh54N",
        "outputId": "aceaf4d7-d360-45e4-81e0-10cc0f01b0fd"
      },
      "execution_count": null,
      "outputs": [
        {
          "output_type": "stream",
          "name": "stderr",
          "text": [
            "/usr/local/lib/python3.7/dist-packages/ipykernel_launcher.py:2: DeprecationWarning: `np.float` is a deprecated alias for the builtin `float`. To silence this warning, use `float` by itself. Doing this will not modify any behavior and is safe. If you specifically wanted the numpy scalar type, use `np.float64` here.\n",
            "Deprecated in NumPy 1.20; for more details and guidance: https://numpy.org/devdocs/release/1.20.0-notes.html#deprecations\n",
            "  \n"
          ]
        }
      ]
    },
    {
      "cell_type": "code",
      "source": [
        "c_out = tf.nn.conv2d(x_4d, w_4d, strides = 1, padding = 'SAME') #4차원 배열 전달"
      ],
      "metadata": {
        "id": "gBFBNkxFizUs"
      },
      "execution_count": null,
      "outputs": []
    },
    {
      "cell_type": "code",
      "source": [
        "c_out.numpy().reshape(3, 3)"
      ],
      "metadata": {
        "colab": {
          "base_uri": "https://localhost:8080/"
        },
        "id": "tsENyUGdi8tq",
        "outputId": "cf8ae1ec-6458-487d-e34e-881fd5eaeb36"
      },
      "execution_count": null,
      "outputs": [
        {
          "output_type": "execute_result",
          "data": {
            "text/plain": [
              "array([[ 2.,  4.,  6.],\n",
              "       [ 8., 10., 12.],\n",
              "       [14., 16., 18.]])"
            ]
          },
          "metadata": {},
          "execution_count": 14
        }
      ]
    },
    {
      "cell_type": "markdown",
      "source": [
        "풀링"
      ],
      "metadata": {
        "id": "F7apGdABkPgq"
      }
    },
    {
      "cell_type": "code",
      "source": [
        "x = np.array([[1, 2, 3, 4],\n",
        "              [5, 6, 7, 8],\n",
        "              [9, 10, 11, 12],\n",
        "              [13, 14, 15, 16]])\n",
        "x = x.reshape(1, 4, 4, 1)"
      ],
      "metadata": {
        "id": "mg4z_YMAjZYY"
      },
      "execution_count": null,
      "outputs": []
    },
    {
      "cell_type": "code",
      "source": [
        "p_out = tf.nn.max_pool2d(x, ksize = 2, strides = 2, padding = 'VALID') #최대 풀링\n",
        "p_out.numpy().reshape(2, 2)"
      ],
      "metadata": {
        "colab": {
          "base_uri": "https://localhost:8080/"
        },
        "id": "QDLZ_yJ_kcCq",
        "outputId": "54031c66-1d77-421a-b7d5-baca59509b8a"
      },
      "execution_count": null,
      "outputs": [
        {
          "output_type": "execute_result",
          "data": {
            "text/plain": [
              "array([[ 6.,  8.],\n",
              "       [14., 16.]], dtype=float32)"
            ]
          },
          "metadata": {},
          "execution_count": 16
        }
      ]
    },
    {
      "cell_type": "markdown",
      "source": [
        "렐루 함수"
      ],
      "metadata": {
        "id": "E52WfGUtlYjo"
      }
    },
    {
      "cell_type": "code",
      "source": [
        "def relu(x): #렐루 함수\n",
        "  return np.maximum(x, 0)"
      ],
      "metadata": {
        "id": "eGBBFo7Mk5Up"
      },
      "execution_count": null,
      "outputs": []
    },
    {
      "cell_type": "code",
      "source": [
        "x = np.array([-1, 2, -3, 4, -5])\n",
        "relu(x)"
      ],
      "metadata": {
        "colab": {
          "base_uri": "https://localhost:8080/"
        },
        "id": "rGaKNBPule81",
        "outputId": "56aea34f-7266-4b90-bb6a-9e37573d0ace"
      },
      "execution_count": null,
      "outputs": [
        {
          "output_type": "execute_result",
          "data": {
            "text/plain": [
              "array([0, 2, 0, 4, 0])"
            ]
          },
          "metadata": {},
          "execution_count": 18
        }
      ]
    },
    {
      "cell_type": "code",
      "source": [
        "r_out = tf.nn.relu(x) #tf 렐루 함수\n",
        "r_out.numpy()"
      ],
      "metadata": {
        "colab": {
          "base_uri": "https://localhost:8080/"
        },
        "id": "cfgfxIlelkDl",
        "outputId": "87999095-90f7-4549-a986-f84ffa1946f6"
      },
      "execution_count": null,
      "outputs": [
        {
          "output_type": "execute_result",
          "data": {
            "text/plain": [
              "array([0, 2, 0, 4, 0])"
            ]
          },
          "metadata": {},
          "execution_count": 19
        }
      ]
    },
    {
      "cell_type": "markdown",
      "source": [
        "합성곱 신경망"
      ],
      "metadata": {
        "id": "52kkktGjosmS"
      }
    },
    {
      "cell_type": "code",
      "source": [
        "class ConvolutionNetwork:\n",
        "\n",
        "  def __init__(self, n_kernels = 10, units = 10, batch_size = 32, learning_rate = 0.1):\n",
        "    self.n_kernels = n_kernels      # 합성곱의 커널 개수\n",
        "    self.kernel_size = 3            # 커널 크기\n",
        "    self.optimizer = None           # 옵티마이저\n",
        "    self.conv_w = None              # 합성곱층의 가중치\n",
        "    self.conv_b = None              # 합성곱층의 절편\n",
        "    self.units = units              # 은닉층의 뉴런 개수 \n",
        "    self.batch_size  = batch_size   # 배치 크기\n",
        "    self.w1 = None                  # 은닉층의 가중치\n",
        "    self.b1 = None                  # 은닉층의 절편\n",
        "    self.w2 = None                  # 출력층의 가중치\n",
        "    self.b2 = None                  # 출력층의 절편\n",
        "    self.a1 = None                  # 은닉층의 활성화 출력\n",
        "    self.losses = []                # 훈련 손실\n",
        "    self.val_losses = []            # 검증 손실\n",
        "    self.lr = learning_rate         # 학습률\n",
        "\n",
        "  def forpass(self, x):\n",
        "    # 3 x 3 합성곱 연산 수행\n",
        "    c_out = tf.nn.conv2d(x, self.conv_w, strides = 1, padding = 'SAME') + self.conv_b\n",
        "    # 렐루 함수 적용\n",
        "    r_out = tf.nn.relu(c_out)\n",
        "    # 2 x 2 최대 풀링 적용\n",
        "    p_out = tf.nn.max_pool2d(r_out, ksize = 2, strides = 2, padding = 'VALID')\n",
        "    # 첫 번째 배치 차원 제외하고 일렬로 펼침\n",
        "    f_out = tf.reshape(p_out,[x.shape[0], -1])\n",
        "    z1 = tf.matmul(f_out, self.w1) + self.b1  # 첫 번째 층의 선형식 계산\n",
        "    a1 = tf.nn.relu(z1)                       # 활성화 함수 적용\n",
        "    z2 = tf.matmul(a1, self.w2) + self.b2     # 두 번째 층의 선형식 계산\n",
        "    return z2\n",
        "\n",
        "  def init_weights(self, input_shape, n_classes):\n",
        "    g = tf.initializers.glorot_uniform()\n",
        "    self.conv_w = tf.Variable(g((3, 3, 1, self.n_kernels)))\n",
        "    self.conv_b = tf.Variable(np.zeros(self.n_kernels), dtype = float)\n",
        "    n_features = 14 * 14 * self.n_kernels\n",
        "    self.w1 = tf.Variable(g((n_features, self.units)))          # (특성 개수, 은닉층의 크기)\n",
        "    self.b1 = tf.Variable(np.zeros(self.units), dtype = float)  # 은닉층의 크기\n",
        "    self.w2 = tf.Variable(g((self.units, n_classes)))           # (은닉층의 크기, 클래스 개수)\n",
        "    self.b2 = tf.Variable(np.zeros(n_classes), dtype = float)   # 클래스 개수\n",
        "\n",
        "  def fit(self, x, y, epochs = 100, x_val = None, y_val = None):\n",
        "    self.init_weights(x.shape, y.shape[1]) # 은닉층과 출력층의 가중치 초기화\n",
        "    self.optimizer = tf.optimizers.SGD(learning_rate=self.lr)\n",
        "    # 에포크만큼 반복\n",
        "    for i in range(epochs):\n",
        "      print('에포크', i, end = ' ')\n",
        "      # 제너레이터 함수에서 반환한 미니 배치 순환\n",
        "      batch_losses = []\n",
        "      for x_batch, y_batch in self.gen_batch(x, y):\n",
        "        print('.', end='')\n",
        "        self.training(x_batch, y_batch)\n",
        "        # 배치 손실 기록\n",
        "        batch_losses.append(self.get_loss(x_val, y_val))\n",
        "      print( )\n",
        "      # 배치 손실 평균 훈련 손실값으로 저장\n",
        "      self.losses.append(np.mean(batch_losses))\n",
        "      # 검증 세트에 대한 손실 계산\n",
        "      self.val_losses.append(self.get_loss(x_val, y_val))  \n",
        "  \n",
        "  # 미니 배치 제너레이터 함수\n",
        "  def gen_batch(self, x, y):\n",
        "    bins = len(x) // self.batch_size                    # 미니 배치 횟수\n",
        "    indexes = np.random.permutation(np.arange(len(x)))  # 인덱스를 섞는다\n",
        "    x = x[indexes]\n",
        "    y = y[indexes]\n",
        "    for i in range(bins):\n",
        "      start = self.batch_size * i\n",
        "      end = self.batch_size * (i + 1)\n",
        "      yield x[start:end], y[start:end]    # batch_size만큼 슬라이싱하여 반환\n",
        "\n",
        "  def training(self, x, y):\n",
        "    m = len(x)            # 샘플 갯수 저장\n",
        "    with tf.GradientTape() as tape:\n",
        "      z = self.forpass(x)\n",
        "      # 손실 계산\n",
        "      loss = tf.nn.softmax_cross_entropy_with_logits(y, z)\n",
        "      loss = tf.reduce_mean(loss)\n",
        "    \n",
        "    weights_list = [self.conv_w, self.conv_b,\n",
        "                    self.w1, self.b1, self.w2, self.b2]\n",
        "    # 가중치에 대한 그레이디언트 계산\n",
        "    grads = tape.gradient(loss, weights_list)\n",
        "    # 가중치 업데이트\n",
        "    self.optimizer.apply_gradients(zip(grads, weights_list))\n",
        "\n",
        "  def predict(self, x):\n",
        "    z = self.forpass(x)                    # 정방향 계산 수행\n",
        "    return np.argmax(z.numpy(), axis = 1)  # 가장 큰 값의 인덱스 반환\n",
        "\n",
        "  def score(self, x, y):\n",
        "    # 예측과 타깃 열 벡터를 비교하여 true의 비율을 반환\n",
        "    return np.mean(self.predict(x) == np.argmax(y, axis = 1))\n",
        "      \n",
        "  def get_loss(self, x, y):\n",
        "    z = self.forpass(x) # 정방향 계산 수행\n",
        "    # 손실을 계산하여 저장\n",
        "    loss = tf.reduce_mean(tf.nn.softmax_cross_entropy_with_logits(y, z))\n",
        "    return loss.numpy()"
      ],
      "metadata": {
        "id": "5CV8GaUilpww"
      },
      "execution_count": null,
      "outputs": []
    },
    {
      "cell_type": "markdown",
      "source": [
        "자동 미분"
      ],
      "metadata": {
        "id": "5kfW45cXVhqs"
      }
    },
    {
      "cell_type": "code",
      "source": [
        "import tensorflow as tf\n",
        "x = tf.Variable(np.array([1.0, 2.0, 3.0]))\n",
        "with tf.GradientTape() as tape:\n",
        "  y = x ** 3 + 2 * x + 5\n",
        "print(tape.gradient(y, x))"
      ],
      "metadata": {
        "colab": {
          "base_uri": "https://localhost:8080/"
        },
        "id": "WVGVL2KcVihm",
        "outputId": "a41c6f35-fc84-425d-e2f2-728c0f48d08a"
      },
      "execution_count": null,
      "outputs": [
        {
          "output_type": "stream",
          "name": "stdout",
          "text": [
            "tf.Tensor([ 5. 14. 29.], shape=(3,), dtype=float64)\n"
          ]
        }
      ]
    },
    {
      "cell_type": "markdown",
      "source": [
        "합성곱 신경망 훈련"
      ],
      "metadata": {
        "id": "3N5c1LS2d_pT"
      }
    },
    {
      "cell_type": "code",
      "source": [
        "(x_train_all, y_train_all),(x_test, y_test) = tf.keras.datasets.fashion_mnist.load_data()"
      ],
      "metadata": {
        "id": "Tj43azb-V3J1",
        "colab": {
          "base_uri": "https://localhost:8080/"
        },
        "outputId": "f662c550-f69e-4647-dcd6-d468126fa3bf"
      },
      "execution_count": null,
      "outputs": [
        {
          "output_type": "stream",
          "name": "stdout",
          "text": [
            "Downloading data from https://storage.googleapis.com/tensorflow/tf-keras-datasets/train-labels-idx1-ubyte.gz\n",
            "32768/29515 [=================================] - 0s 0us/step\n",
            "40960/29515 [=========================================] - 0s 0us/step\n",
            "Downloading data from https://storage.googleapis.com/tensorflow/tf-keras-datasets/train-images-idx3-ubyte.gz\n",
            "26427392/26421880 [==============================] - 0s 0us/step\n",
            "26435584/26421880 [==============================] - 0s 0us/step\n",
            "Downloading data from https://storage.googleapis.com/tensorflow/tf-keras-datasets/t10k-labels-idx1-ubyte.gz\n",
            "16384/5148 [===============================================================================================] - 0s 0us/step\n",
            "Downloading data from https://storage.googleapis.com/tensorflow/tf-keras-datasets/t10k-images-idx3-ubyte.gz\n",
            "4423680/4422102 [==============================] - 0s 0us/step\n",
            "4431872/4422102 [==============================] - 0s 0us/step\n"
          ]
        }
      ]
    },
    {
      "cell_type": "code",
      "source": [
        "from sklearn.model_selection import train_test_split\n",
        "x_train, x_val, y_train, y_val = train_test_split(x_train_all, y_train_all, stratify = y_train_all, test_size = 0.2, random_state = 42)"
      ],
      "metadata": {
        "id": "qQRLA7l9eLII"
      },
      "execution_count": null,
      "outputs": []
    },
    {
      "cell_type": "code",
      "source": [
        "y_train_encoded = tf.keras.utils.to_categorical(y_train)\n",
        "y_val_encoded = tf.keras.utils.to_categorical(y_val)"
      ],
      "metadata": {
        "id": "nlpZY_z0ec4t"
      },
      "execution_count": null,
      "outputs": []
    },
    {
      "cell_type": "code",
      "source": [
        "x_train = x_train.reshape(-1, 28, 28, 1)\n",
        "x_val = x_val.reshape(-1, 28, 28, 1)"
      ],
      "metadata": {
        "id": "L-O4H9eTeoK0"
      },
      "execution_count": null,
      "outputs": []
    },
    {
      "cell_type": "code",
      "source": [
        "x_train.shape"
      ],
      "metadata": {
        "colab": {
          "base_uri": "https://localhost:8080/"
        },
        "id": "pDa-Ca-CfFyI",
        "outputId": "74d1faa6-7d2d-422c-81fb-5ad417b2f783"
      },
      "execution_count": null,
      "outputs": [
        {
          "output_type": "execute_result",
          "data": {
            "text/plain": [
              "(48000, 28, 28, 1)"
            ]
          },
          "metadata": {},
          "execution_count": 26
        }
      ]
    },
    {
      "cell_type": "code",
      "source": [
        "x_train = x_train / 255\n",
        "x_val = x_val / 255"
      ],
      "metadata": {
        "id": "nUqoZWa8fHM-"
      },
      "execution_count": null,
      "outputs": []
    },
    {
      "cell_type": "code",
      "source": [
        "cn = ConvolutionNetwork(n_kernels=10, units=100, batch_size=128, learning_rate=0.01)\n",
        "cn.fit(x_train, y_train_encoded, x_val=x_val, y_val=y_val_encoded, epochs=20)"
      ],
      "metadata": {
        "colab": {
          "base_uri": "https://localhost:8080/",
          "height": 360
        },
        "id": "LnuHVQVAfM9i",
        "outputId": "57c16822-b705-43d3-c396-6d49e22c32f0"
      },
      "execution_count": null,
      "outputs": [
        {
          "output_type": "stream",
          "name": "stdout",
          "text": [
            "에포크 0 ............"
          ]
        },
        {
          "output_type": "error",
          "ename": "KeyboardInterrupt",
          "evalue": "ignored",
          "traceback": [
            "\u001b[0;31m---------------------------------------------------------------------------\u001b[0m",
            "\u001b[0;31mKeyboardInterrupt\u001b[0m                         Traceback (most recent call last)",
            "\u001b[0;32m<ipython-input-28-8405621da6fa>\u001b[0m in \u001b[0;36m<module>\u001b[0;34m()\u001b[0m\n\u001b[1;32m      1\u001b[0m \u001b[0mcn\u001b[0m \u001b[0;34m=\u001b[0m \u001b[0mConvolutionNetwork\u001b[0m\u001b[0;34m(\u001b[0m\u001b[0mn_kernels\u001b[0m\u001b[0;34m=\u001b[0m\u001b[0;36m10\u001b[0m\u001b[0;34m,\u001b[0m \u001b[0munits\u001b[0m\u001b[0;34m=\u001b[0m\u001b[0;36m100\u001b[0m\u001b[0;34m,\u001b[0m \u001b[0mbatch_size\u001b[0m\u001b[0;34m=\u001b[0m\u001b[0;36m128\u001b[0m\u001b[0;34m,\u001b[0m \u001b[0mlearning_rate\u001b[0m\u001b[0;34m=\u001b[0m\u001b[0;36m0.01\u001b[0m\u001b[0;34m)\u001b[0m\u001b[0;34m\u001b[0m\u001b[0;34m\u001b[0m\u001b[0m\n\u001b[0;32m----> 2\u001b[0;31m \u001b[0mcn\u001b[0m\u001b[0;34m.\u001b[0m\u001b[0mfit\u001b[0m\u001b[0;34m(\u001b[0m\u001b[0mx_train\u001b[0m\u001b[0;34m,\u001b[0m \u001b[0my_train_encoded\u001b[0m\u001b[0;34m,\u001b[0m \u001b[0mx_val\u001b[0m\u001b[0;34m=\u001b[0m\u001b[0mx_val\u001b[0m\u001b[0;34m,\u001b[0m \u001b[0my_val\u001b[0m\u001b[0;34m=\u001b[0m\u001b[0my_val_encoded\u001b[0m\u001b[0;34m,\u001b[0m \u001b[0mepochs\u001b[0m\u001b[0;34m=\u001b[0m\u001b[0;36m20\u001b[0m\u001b[0;34m)\u001b[0m\u001b[0;34m\u001b[0m\u001b[0;34m\u001b[0m\u001b[0m\n\u001b[0m",
            "\u001b[0;32m<ipython-input-20-ee99d4ac3a69>\u001b[0m in \u001b[0;36mfit\u001b[0;34m(self, x, y, epochs, x_val, y_val)\u001b[0m\n\u001b[1;32m     54\u001b[0m         \u001b[0mself\u001b[0m\u001b[0;34m.\u001b[0m\u001b[0mtraining\u001b[0m\u001b[0;34m(\u001b[0m\u001b[0mx_batch\u001b[0m\u001b[0;34m,\u001b[0m \u001b[0my_batch\u001b[0m\u001b[0;34m)\u001b[0m\u001b[0;34m\u001b[0m\u001b[0;34m\u001b[0m\u001b[0m\n\u001b[1;32m     55\u001b[0m         \u001b[0;31m# 배치 손실 기록\u001b[0m\u001b[0;34m\u001b[0m\u001b[0;34m\u001b[0m\u001b[0;34m\u001b[0m\u001b[0m\n\u001b[0;32m---> 56\u001b[0;31m         \u001b[0mbatch_losses\u001b[0m\u001b[0;34m.\u001b[0m\u001b[0mappend\u001b[0m\u001b[0;34m(\u001b[0m\u001b[0mself\u001b[0m\u001b[0;34m.\u001b[0m\u001b[0mget_loss\u001b[0m\u001b[0;34m(\u001b[0m\u001b[0mx_val\u001b[0m\u001b[0;34m,\u001b[0m \u001b[0my_val\u001b[0m\u001b[0;34m)\u001b[0m\u001b[0;34m)\u001b[0m\u001b[0;34m\u001b[0m\u001b[0;34m\u001b[0m\u001b[0m\n\u001b[0m\u001b[1;32m     57\u001b[0m       \u001b[0mprint\u001b[0m\u001b[0;34m(\u001b[0m \u001b[0;34m)\u001b[0m\u001b[0;34m\u001b[0m\u001b[0;34m\u001b[0m\u001b[0m\n\u001b[1;32m     58\u001b[0m       \u001b[0;31m# 배치 손실 평균 훈련 손실값으로 저장\u001b[0m\u001b[0;34m\u001b[0m\u001b[0;34m\u001b[0m\u001b[0;34m\u001b[0m\u001b[0m\n",
            "\u001b[0;32m<ipython-input-20-ee99d4ac3a69>\u001b[0m in \u001b[0;36mget_loss\u001b[0;34m(self, x, y)\u001b[0m\n\u001b[1;32m     96\u001b[0m \u001b[0;34m\u001b[0m\u001b[0m\n\u001b[1;32m     97\u001b[0m   \u001b[0;32mdef\u001b[0m \u001b[0mget_loss\u001b[0m\u001b[0;34m(\u001b[0m\u001b[0mself\u001b[0m\u001b[0;34m,\u001b[0m \u001b[0mx\u001b[0m\u001b[0;34m,\u001b[0m \u001b[0my\u001b[0m\u001b[0;34m)\u001b[0m\u001b[0;34m:\u001b[0m\u001b[0;34m\u001b[0m\u001b[0;34m\u001b[0m\u001b[0m\n\u001b[0;32m---> 98\u001b[0;31m     \u001b[0mz\u001b[0m \u001b[0;34m=\u001b[0m \u001b[0mself\u001b[0m\u001b[0;34m.\u001b[0m\u001b[0mforpass\u001b[0m\u001b[0;34m(\u001b[0m\u001b[0mx\u001b[0m\u001b[0;34m)\u001b[0m \u001b[0;31m# 정방향 계산 수행\u001b[0m\u001b[0;34m\u001b[0m\u001b[0;34m\u001b[0m\u001b[0m\n\u001b[0m\u001b[1;32m     99\u001b[0m     \u001b[0;31m# 손실을 계산하여 저장\u001b[0m\u001b[0;34m\u001b[0m\u001b[0;34m\u001b[0m\u001b[0;34m\u001b[0m\u001b[0m\n\u001b[1;32m    100\u001b[0m     \u001b[0mloss\u001b[0m \u001b[0;34m=\u001b[0m \u001b[0mtf\u001b[0m\u001b[0;34m.\u001b[0m\u001b[0mreduce_mean\u001b[0m\u001b[0;34m(\u001b[0m\u001b[0mtf\u001b[0m\u001b[0;34m.\u001b[0m\u001b[0mnn\u001b[0m\u001b[0;34m.\u001b[0m\u001b[0msoftmax_cross_entropy_with_logits\u001b[0m\u001b[0;34m(\u001b[0m\u001b[0my\u001b[0m\u001b[0;34m,\u001b[0m \u001b[0mz\u001b[0m\u001b[0;34m)\u001b[0m\u001b[0;34m)\u001b[0m\u001b[0;34m\u001b[0m\u001b[0;34m\u001b[0m\u001b[0m\n",
            "\u001b[0;32m<ipython-input-20-ee99d4ac3a69>\u001b[0m in \u001b[0;36mforpass\u001b[0;34m(self, x)\u001b[0m\n\u001b[1;32m     20\u001b[0m   \u001b[0;32mdef\u001b[0m \u001b[0mforpass\u001b[0m\u001b[0;34m(\u001b[0m\u001b[0mself\u001b[0m\u001b[0;34m,\u001b[0m \u001b[0mx\u001b[0m\u001b[0;34m)\u001b[0m\u001b[0;34m:\u001b[0m\u001b[0;34m\u001b[0m\u001b[0;34m\u001b[0m\u001b[0m\n\u001b[1;32m     21\u001b[0m     \u001b[0;31m# 3 x 3 합성곱 연산 수행\u001b[0m\u001b[0;34m\u001b[0m\u001b[0;34m\u001b[0m\u001b[0;34m\u001b[0m\u001b[0m\n\u001b[0;32m---> 22\u001b[0;31m     \u001b[0mc_out\u001b[0m \u001b[0;34m=\u001b[0m \u001b[0mtf\u001b[0m\u001b[0;34m.\u001b[0m\u001b[0mnn\u001b[0m\u001b[0;34m.\u001b[0m\u001b[0mconv2d\u001b[0m\u001b[0;34m(\u001b[0m\u001b[0mx\u001b[0m\u001b[0;34m,\u001b[0m \u001b[0mself\u001b[0m\u001b[0;34m.\u001b[0m\u001b[0mconv_w\u001b[0m\u001b[0;34m,\u001b[0m \u001b[0mstrides\u001b[0m \u001b[0;34m=\u001b[0m \u001b[0;36m1\u001b[0m\u001b[0;34m,\u001b[0m \u001b[0mpadding\u001b[0m \u001b[0;34m=\u001b[0m \u001b[0;34m'SAME'\u001b[0m\u001b[0;34m)\u001b[0m \u001b[0;34m+\u001b[0m \u001b[0mself\u001b[0m\u001b[0;34m.\u001b[0m\u001b[0mconv_b\u001b[0m\u001b[0;34m\u001b[0m\u001b[0;34m\u001b[0m\u001b[0m\n\u001b[0m\u001b[1;32m     23\u001b[0m     \u001b[0;31m# 렐루 함수 적용\u001b[0m\u001b[0;34m\u001b[0m\u001b[0;34m\u001b[0m\u001b[0;34m\u001b[0m\u001b[0m\n\u001b[1;32m     24\u001b[0m     \u001b[0mr_out\u001b[0m \u001b[0;34m=\u001b[0m \u001b[0mtf\u001b[0m\u001b[0;34m.\u001b[0m\u001b[0mnn\u001b[0m\u001b[0;34m.\u001b[0m\u001b[0mrelu\u001b[0m\u001b[0;34m(\u001b[0m\u001b[0mc_out\u001b[0m\u001b[0;34m)\u001b[0m\u001b[0;34m\u001b[0m\u001b[0;34m\u001b[0m\u001b[0m\n",
            "\u001b[0;32m/usr/local/lib/python3.7/dist-packages/tensorflow/python/util/traceback_utils.py\u001b[0m in \u001b[0;36merror_handler\u001b[0;34m(*args, **kwargs)\u001b[0m\n\u001b[1;32m    148\u001b[0m     \u001b[0mfiltered_tb\u001b[0m \u001b[0;34m=\u001b[0m \u001b[0;32mNone\u001b[0m\u001b[0;34m\u001b[0m\u001b[0;34m\u001b[0m\u001b[0m\n\u001b[1;32m    149\u001b[0m     \u001b[0;32mtry\u001b[0m\u001b[0;34m:\u001b[0m\u001b[0;34m\u001b[0m\u001b[0;34m\u001b[0m\u001b[0m\n\u001b[0;32m--> 150\u001b[0;31m       \u001b[0;32mreturn\u001b[0m \u001b[0mfn\u001b[0m\u001b[0;34m(\u001b[0m\u001b[0;34m*\u001b[0m\u001b[0margs\u001b[0m\u001b[0;34m,\u001b[0m \u001b[0;34m**\u001b[0m\u001b[0mkwargs\u001b[0m\u001b[0;34m)\u001b[0m\u001b[0;34m\u001b[0m\u001b[0;34m\u001b[0m\u001b[0m\n\u001b[0m\u001b[1;32m    151\u001b[0m     \u001b[0;32mexcept\u001b[0m \u001b[0mException\u001b[0m \u001b[0;32mas\u001b[0m \u001b[0me\u001b[0m\u001b[0;34m:\u001b[0m\u001b[0;34m\u001b[0m\u001b[0;34m\u001b[0m\u001b[0m\n\u001b[1;32m    152\u001b[0m       \u001b[0mfiltered_tb\u001b[0m \u001b[0;34m=\u001b[0m \u001b[0m_process_traceback_frames\u001b[0m\u001b[0;34m(\u001b[0m\u001b[0me\u001b[0m\u001b[0;34m.\u001b[0m\u001b[0m__traceback__\u001b[0m\u001b[0;34m)\u001b[0m\u001b[0;34m\u001b[0m\u001b[0;34m\u001b[0m\u001b[0m\n",
            "\u001b[0;32m/usr/local/lib/python3.7/dist-packages/tensorflow/python/ops/math_ops.py\u001b[0m in \u001b[0;36mbinary_op_wrapper\u001b[0;34m(x, y)\u001b[0m\n\u001b[1;32m   1404\u001b[0m         \u001b[0;31m#   r_binary_op_wrapper use different force_same_dtype values.\u001b[0m\u001b[0;34m\u001b[0m\u001b[0;34m\u001b[0m\u001b[0;34m\u001b[0m\u001b[0m\n\u001b[1;32m   1405\u001b[0m         \u001b[0mx\u001b[0m\u001b[0;34m,\u001b[0m \u001b[0my\u001b[0m \u001b[0;34m=\u001b[0m \u001b[0mmaybe_promote_tensors\u001b[0m\u001b[0;34m(\u001b[0m\u001b[0mx\u001b[0m\u001b[0;34m,\u001b[0m \u001b[0my\u001b[0m\u001b[0;34m)\u001b[0m\u001b[0;34m\u001b[0m\u001b[0;34m\u001b[0m\u001b[0m\n\u001b[0;32m-> 1406\u001b[0;31m         \u001b[0;32mreturn\u001b[0m \u001b[0mfunc\u001b[0m\u001b[0;34m(\u001b[0m\u001b[0mx\u001b[0m\u001b[0;34m,\u001b[0m \u001b[0my\u001b[0m\u001b[0;34m,\u001b[0m \u001b[0mname\u001b[0m\u001b[0;34m=\u001b[0m\u001b[0mname\u001b[0m\u001b[0;34m)\u001b[0m\u001b[0;34m\u001b[0m\u001b[0;34m\u001b[0m\u001b[0m\n\u001b[0m\u001b[1;32m   1407\u001b[0m       \u001b[0;32mexcept\u001b[0m \u001b[0;34m(\u001b[0m\u001b[0mTypeError\u001b[0m\u001b[0;34m,\u001b[0m \u001b[0mValueError\u001b[0m\u001b[0;34m)\u001b[0m \u001b[0;32mas\u001b[0m \u001b[0me\u001b[0m\u001b[0;34m:\u001b[0m\u001b[0;34m\u001b[0m\u001b[0;34m\u001b[0m\u001b[0m\n\u001b[1;32m   1408\u001b[0m         \u001b[0;31m# Even if dispatching the op failed, the RHS may be a tensor aware\u001b[0m\u001b[0;34m\u001b[0m\u001b[0;34m\u001b[0m\u001b[0;34m\u001b[0m\u001b[0m\n",
            "\u001b[0;32m/usr/local/lib/python3.7/dist-packages/tensorflow/python/util/traceback_utils.py\u001b[0m in \u001b[0;36merror_handler\u001b[0;34m(*args, **kwargs)\u001b[0m\n\u001b[1;32m    148\u001b[0m     \u001b[0mfiltered_tb\u001b[0m \u001b[0;34m=\u001b[0m \u001b[0;32mNone\u001b[0m\u001b[0;34m\u001b[0m\u001b[0;34m\u001b[0m\u001b[0m\n\u001b[1;32m    149\u001b[0m     \u001b[0;32mtry\u001b[0m\u001b[0;34m:\u001b[0m\u001b[0;34m\u001b[0m\u001b[0;34m\u001b[0m\u001b[0m\n\u001b[0;32m--> 150\u001b[0;31m       \u001b[0;32mreturn\u001b[0m \u001b[0mfn\u001b[0m\u001b[0;34m(\u001b[0m\u001b[0;34m*\u001b[0m\u001b[0margs\u001b[0m\u001b[0;34m,\u001b[0m \u001b[0;34m**\u001b[0m\u001b[0mkwargs\u001b[0m\u001b[0;34m)\u001b[0m\u001b[0;34m\u001b[0m\u001b[0;34m\u001b[0m\u001b[0m\n\u001b[0m\u001b[1;32m    151\u001b[0m     \u001b[0;32mexcept\u001b[0m \u001b[0mException\u001b[0m \u001b[0;32mas\u001b[0m \u001b[0me\u001b[0m\u001b[0;34m:\u001b[0m\u001b[0;34m\u001b[0m\u001b[0;34m\u001b[0m\u001b[0m\n\u001b[1;32m    152\u001b[0m       \u001b[0mfiltered_tb\u001b[0m \u001b[0;34m=\u001b[0m \u001b[0m_process_traceback_frames\u001b[0m\u001b[0;34m(\u001b[0m\u001b[0me\u001b[0m\u001b[0;34m.\u001b[0m\u001b[0m__traceback__\u001b[0m\u001b[0;34m)\u001b[0m\u001b[0;34m\u001b[0m\u001b[0;34m\u001b[0m\u001b[0m\n",
            "\u001b[0;32m/usr/local/lib/python3.7/dist-packages/tensorflow/python/util/dispatch.py\u001b[0m in \u001b[0;36mop_dispatch_handler\u001b[0;34m(*args, **kwargs)\u001b[0m\n\u001b[1;32m   1080\u001b[0m       \u001b[0;31m# Fallback dispatch system (dispatch v1):\u001b[0m\u001b[0;34m\u001b[0m\u001b[0;34m\u001b[0m\u001b[0;34m\u001b[0m\u001b[0m\n\u001b[1;32m   1081\u001b[0m       \u001b[0;32mtry\u001b[0m\u001b[0;34m:\u001b[0m\u001b[0;34m\u001b[0m\u001b[0;34m\u001b[0m\u001b[0m\n\u001b[0;32m-> 1082\u001b[0;31m         \u001b[0;32mreturn\u001b[0m \u001b[0mdispatch_target\u001b[0m\u001b[0;34m(\u001b[0m\u001b[0;34m*\u001b[0m\u001b[0margs\u001b[0m\u001b[0;34m,\u001b[0m \u001b[0;34m**\u001b[0m\u001b[0mkwargs\u001b[0m\u001b[0;34m)\u001b[0m\u001b[0;34m\u001b[0m\u001b[0;34m\u001b[0m\u001b[0m\n\u001b[0m\u001b[1;32m   1083\u001b[0m       \u001b[0;32mexcept\u001b[0m \u001b[0;34m(\u001b[0m\u001b[0mTypeError\u001b[0m\u001b[0;34m,\u001b[0m \u001b[0mValueError\u001b[0m\u001b[0;34m)\u001b[0m\u001b[0;34m:\u001b[0m\u001b[0;34m\u001b[0m\u001b[0;34m\u001b[0m\u001b[0m\n\u001b[1;32m   1084\u001b[0m         \u001b[0;31m# Note: convert_to_eager_tensor currently raises a ValueError, not a\u001b[0m\u001b[0;34m\u001b[0m\u001b[0;34m\u001b[0m\u001b[0;34m\u001b[0m\u001b[0m\n",
            "\u001b[0;32m/usr/local/lib/python3.7/dist-packages/tensorflow/python/ops/math_ops.py\u001b[0m in \u001b[0;36m_add_dispatch\u001b[0;34m(x, y, name)\u001b[0m\n\u001b[1;32m   1754\u001b[0m     \u001b[0;32mreturn\u001b[0m \u001b[0mgen_math_ops\u001b[0m\u001b[0;34m.\u001b[0m\u001b[0madd\u001b[0m\u001b[0;34m(\u001b[0m\u001b[0mx\u001b[0m\u001b[0;34m,\u001b[0m \u001b[0my\u001b[0m\u001b[0;34m,\u001b[0m \u001b[0mname\u001b[0m\u001b[0;34m=\u001b[0m\u001b[0mname\u001b[0m\u001b[0;34m)\u001b[0m\u001b[0;34m\u001b[0m\u001b[0;34m\u001b[0m\u001b[0m\n\u001b[1;32m   1755\u001b[0m   \u001b[0;32melse\u001b[0m\u001b[0;34m:\u001b[0m\u001b[0;34m\u001b[0m\u001b[0;34m\u001b[0m\u001b[0m\n\u001b[0;32m-> 1756\u001b[0;31m     \u001b[0;32mreturn\u001b[0m \u001b[0mgen_math_ops\u001b[0m\u001b[0;34m.\u001b[0m\u001b[0madd_v2\u001b[0m\u001b[0;34m(\u001b[0m\u001b[0mx\u001b[0m\u001b[0;34m,\u001b[0m \u001b[0my\u001b[0m\u001b[0;34m,\u001b[0m \u001b[0mname\u001b[0m\u001b[0;34m=\u001b[0m\u001b[0mname\u001b[0m\u001b[0;34m)\u001b[0m\u001b[0;34m\u001b[0m\u001b[0;34m\u001b[0m\u001b[0m\n\u001b[0m\u001b[1;32m   1757\u001b[0m \u001b[0;34m\u001b[0m\u001b[0m\n\u001b[1;32m   1758\u001b[0m \u001b[0;34m\u001b[0m\u001b[0m\n",
            "\u001b[0;32m/usr/local/lib/python3.7/dist-packages/tensorflow/python/ops/gen_math_ops.py\u001b[0m in \u001b[0;36madd_v2\u001b[0;34m(x, y, name)\u001b[0m\n\u001b[1;32m    461\u001b[0m     \u001b[0;32mtry\u001b[0m\u001b[0;34m:\u001b[0m\u001b[0;34m\u001b[0m\u001b[0;34m\u001b[0m\u001b[0m\n\u001b[1;32m    462\u001b[0m       _result = pywrap_tfe.TFE_Py_FastPathExecute(\n\u001b[0;32m--> 463\u001b[0;31m         _ctx, \"AddV2\", name, x, y)\n\u001b[0m\u001b[1;32m    464\u001b[0m       \u001b[0;32mreturn\u001b[0m \u001b[0m_result\u001b[0m\u001b[0;34m\u001b[0m\u001b[0;34m\u001b[0m\u001b[0m\n\u001b[1;32m    465\u001b[0m     \u001b[0;32mexcept\u001b[0m \u001b[0m_core\u001b[0m\u001b[0;34m.\u001b[0m\u001b[0m_NotOkStatusException\u001b[0m \u001b[0;32mas\u001b[0m \u001b[0me\u001b[0m\u001b[0;34m:\u001b[0m\u001b[0;34m\u001b[0m\u001b[0;34m\u001b[0m\u001b[0m\n",
            "\u001b[0;31mKeyboardInterrupt\u001b[0m: "
          ]
        }
      ]
    },
    {
      "cell_type": "markdown",
      "source": [
        "케라스로 합성곱 신경망"
      ],
      "metadata": {
        "id": "wnjNVSgw0TK4"
      }
    },
    {
      "cell_type": "code",
      "source": [
        "from tensorflow.keras.layers import Conv2D, MaxPooling2D, Flatten, Dense"
      ],
      "metadata": {
        "id": "2ofcg-VJffzM"
      },
      "execution_count": null,
      "outputs": []
    },
    {
      "cell_type": "code",
      "source": [
        "conv1 = tf.keras.Sequential()\n",
        "conv1.add(Conv2D(10, (3, 3), activation='relu', padding='same', input_shape=(28, 28, 1)))"
      ],
      "metadata": {
        "id": "9K_Qvetr9Qjn"
      },
      "execution_count": null,
      "outputs": []
    },
    {
      "cell_type": "code",
      "source": [
        "conv1.add(MaxPooling2D(2, 2))"
      ],
      "metadata": {
        "id": "yRDeuzVu9z5G"
      },
      "execution_count": null,
      "outputs": []
    },
    {
      "cell_type": "code",
      "source": [
        "conv1.add(Flatten())"
      ],
      "metadata": {
        "id": "Z5muEfEK-GeU"
      },
      "execution_count": null,
      "outputs": []
    },
    {
      "cell_type": "code",
      "source": [
        "conv1.add(Dense(100, activation='relu'))\n",
        "conv1.add(Dense(10, activation='softmax'))"
      ],
      "metadata": {
        "id": "uzM6TaAf-JlD"
      },
      "execution_count": null,
      "outputs": []
    },
    {
      "cell_type": "code",
      "source": [
        "conv1.summary()"
      ],
      "metadata": {
        "colab": {
          "base_uri": "https://localhost:8080/"
        },
        "id": "JBqJ0G1-RplW",
        "outputId": "0ce3624b-b5ed-4da6-81c3-5f0b3419bc36"
      },
      "execution_count": null,
      "outputs": [
        {
          "output_type": "stream",
          "name": "stdout",
          "text": [
            "Model: \"sequential\"\n",
            "_________________________________________________________________\n",
            " Layer (type)                Output Shape              Param #   \n",
            "=================================================================\n",
            " conv2d (Conv2D)             (None, 28, 28, 10)        100       \n",
            "                                                                 \n",
            " max_pooling2d (MaxPooling2D  (None, 14, 14, 10)       0         \n",
            " )                                                               \n",
            "                                                                 \n",
            " flatten (Flatten)           (None, 1960)              0         \n",
            "                                                                 \n",
            " dense (Dense)               (None, 100)               196100    \n",
            "                                                                 \n",
            " dense_1 (Dense)             (None, 10)                1010      \n",
            "                                                                 \n",
            "=================================================================\n",
            "Total params: 197,210\n",
            "Trainable params: 197,210\n",
            "Non-trainable params: 0\n",
            "_________________________________________________________________\n"
          ]
        }
      ]
    },
    {
      "cell_type": "code",
      "source": [
        "conv1.compile(optimizer='adam', loss='categorical_crossentropy', metrics=['accuracy'])"
      ],
      "metadata": {
        "id": "vY318CPrRsBs"
      },
      "execution_count": null,
      "outputs": []
    },
    {
      "cell_type": "code",
      "source": [
        "history = conv1.fit(x_train, y_train_encoded, epochs=20, validation_data=(x_val, y_val_encoded))"
      ],
      "metadata": {
        "colab": {
          "base_uri": "https://localhost:8080/"
        },
        "id": "GbHlq4hIUi-n",
        "outputId": "fda0eec5-63d4-415f-d6c7-3482da92942d"
      },
      "execution_count": null,
      "outputs": [
        {
          "output_type": "stream",
          "name": "stdout",
          "text": [
            "Epoch 1/20\n",
            "1500/1500 [==============================] - 26s 16ms/step - loss: 0.4599 - accuracy: 0.8384 - val_loss: 0.3568 - val_accuracy: 0.8691\n",
            "Epoch 2/20\n",
            "1500/1500 [==============================] - 21s 14ms/step - loss: 0.3171 - accuracy: 0.8860 - val_loss: 0.2942 - val_accuracy: 0.8947\n",
            "Epoch 3/20\n",
            "1500/1500 [==============================] - 21s 14ms/step - loss: 0.2667 - accuracy: 0.9020 - val_loss: 0.2722 - val_accuracy: 0.9028\n",
            "Epoch 4/20\n",
            "1500/1500 [==============================] - 21s 14ms/step - loss: 0.2339 - accuracy: 0.9138 - val_loss: 0.2747 - val_accuracy: 0.9024\n",
            "Epoch 5/20\n",
            "1500/1500 [==============================] - 22s 14ms/step - loss: 0.2078 - accuracy: 0.9224 - val_loss: 0.2574 - val_accuracy: 0.9077\n",
            "Epoch 6/20\n",
            "1500/1500 [==============================] - 21s 14ms/step - loss: 0.1858 - accuracy: 0.9306 - val_loss: 0.2482 - val_accuracy: 0.9101\n",
            "Epoch 7/20\n",
            "1500/1500 [==============================] - 21s 14ms/step - loss: 0.1672 - accuracy: 0.9367 - val_loss: 0.2598 - val_accuracy: 0.9088\n",
            "Epoch 8/20\n",
            "1500/1500 [==============================] - 21s 14ms/step - loss: 0.1508 - accuracy: 0.9449 - val_loss: 0.2501 - val_accuracy: 0.9168\n",
            "Epoch 9/20\n",
            "1500/1500 [==============================] - 22s 14ms/step - loss: 0.1339 - accuracy: 0.9500 - val_loss: 0.2685 - val_accuracy: 0.9135\n",
            "Epoch 10/20\n",
            "1500/1500 [==============================] - 22s 14ms/step - loss: 0.1201 - accuracy: 0.9557 - val_loss: 0.2858 - val_accuracy: 0.9144\n",
            "Epoch 11/20\n",
            "1500/1500 [==============================] - 21s 14ms/step - loss: 0.1080 - accuracy: 0.9605 - val_loss: 0.2656 - val_accuracy: 0.9208\n",
            "Epoch 12/20\n",
            "1500/1500 [==============================] - 21s 14ms/step - loss: 0.0971 - accuracy: 0.9639 - val_loss: 0.2846 - val_accuracy: 0.9124\n",
            "Epoch 13/20\n",
            "1500/1500 [==============================] - 22s 15ms/step - loss: 0.0868 - accuracy: 0.9676 - val_loss: 0.2891 - val_accuracy: 0.9202\n",
            "Epoch 14/20\n",
            "1500/1500 [==============================] - 25s 17ms/step - loss: 0.0772 - accuracy: 0.9715 - val_loss: 0.3125 - val_accuracy: 0.9134\n",
            "Epoch 15/20\n",
            "1500/1500 [==============================] - 26s 17ms/step - loss: 0.0684 - accuracy: 0.9755 - val_loss: 0.3399 - val_accuracy: 0.9109\n",
            "Epoch 16/20\n",
            "1500/1500 [==============================] - 24s 16ms/step - loss: 0.0599 - accuracy: 0.9780 - val_loss: 0.3493 - val_accuracy: 0.9154\n",
            "Epoch 17/20\n",
            "1500/1500 [==============================] - 36s 24ms/step - loss: 0.0545 - accuracy: 0.9809 - val_loss: 0.3510 - val_accuracy: 0.9174\n",
            "Epoch 18/20\n",
            "1500/1500 [==============================] - 32s 22ms/step - loss: 0.0496 - accuracy: 0.9825 - val_loss: 0.3670 - val_accuracy: 0.9150\n",
            "Epoch 19/20\n",
            "1500/1500 [==============================] - 25s 17ms/step - loss: 0.0439 - accuracy: 0.9846 - val_loss: 0.3637 - val_accuracy: 0.9181\n",
            "Epoch 20/20\n",
            "1500/1500 [==============================] - 26s 17ms/step - loss: 0.0405 - accuracy: 0.9858 - val_loss: 0.3962 - val_accuracy: 0.9152\n"
          ]
        }
      ]
    },
    {
      "cell_type": "code",
      "source": [
        "import matplotlib.pyplot as plt\n",
        "plt.plot(history.history['loss'])\n",
        "plt.plot(history.history['val_loss'])\n",
        "plt.ylabel('loss')\n",
        "plt.xlabel('epoch')\n",
        "plt.legend(['train_loss', 'val_loss'])\n",
        "plt.show()\n",
        "\n",
        "plt.plot(history.history['accuracy'])\n",
        "plt.plot(history.history['val_accuracy'])\n",
        "plt.ylabel('loss')\n",
        "plt.xlabel('epoch')\n",
        "plt.legend(['train)accuracy', 'val_accuracy'])\n",
        "plt.show()\n"
      ],
      "metadata": {
        "colab": {
          "base_uri": "https://localhost:8080/",
          "height": 541
        },
        "id": "YgYwOlGGZ34r",
        "outputId": "c7717ede-3c6e-4e40-efe5-f759fba0ef87"
      },
      "execution_count": null,
      "outputs": [
        {
          "output_type": "display_data",
          "data": {
            "text/plain": [
              "<Figure size 432x288 with 1 Axes>"
            ],
            "image/png": "[encoded data removed]"
          },
          "metadata": {
            "needs_background": "light"
          }
        },
        {
          "output_type": "display_data",
          "data": {
            "text/plain": [
              "<Figure size 432x288 with 1 Axes>"
            ],
            "image/png": "[encoded data removed]"
          },
          "metadata": {
            "needs_background": "light"
          }
        }
      ]
    },
    {
      "cell_type": "code",
      "source": [
        "from tensorflow.keras.layers import Dropout\n",
        "\n",
        "conv2 = tf.keras.Sequential()\n",
        "conv2.add(Conv2D(10, (3, 3), activation='relu', padding='same', input_shape=(28, 28, 1)))\n",
        "conv2.add(MaxPooling2D((2, 2)))\n",
        "conv2.add(Flatten())\n",
        "conv2.add(Dropout(0.5))\n",
        "conv2.add(Dense(100, activation='relu'))\n",
        "conv2.add(Dense(10, activation='softmax'))"
      ],
      "metadata": {
        "id": "3WGT6CGrXnU4"
      },
      "execution_count": null,
      "outputs": []
    },
    {
      "cell_type": "code",
      "source": [
        "conv2.summary()"
      ],
      "metadata": {
        "colab": {
          "base_uri": "https://localhost:8080/"
        },
        "id": "EyFdQuupavoK",
        "outputId": "77888e48-5e39-4812-a776-be4af23a964c"
      },
      "execution_count": null,
      "outputs": [
        {
          "output_type": "stream",
          "name": "stdout",
          "text": [
            "Model: \"sequential_2\"\n",
            "_________________________________________________________________\n",
            " Layer (type)                Output Shape              Param #   \n",
            "=================================================================\n",
            " conv2d_1 (Conv2D)           (None, 28, 28, 10)        100       \n",
            "                                                                 \n",
            " max_pooling2d_1 (MaxPooling  (None, 14, 14, 10)       0         \n",
            " 2D)                                                             \n",
            "                                                                 \n",
            " flatten_1 (Flatten)         (None, 1960)              0         \n",
            "                                                                 \n",
            " dropout (Dropout)           (None, 1960)              0         \n",
            "                                                                 \n",
            " dense_2 (Dense)             (None, 100)               196100    \n",
            "                                                                 \n",
            " dense_3 (Dense)             (None, 10)                1010      \n",
            "                                                                 \n",
            "=================================================================\n",
            "Total params: 197,210\n",
            "Trainable params: 197,210\n",
            "Non-trainable params: 0\n",
            "_________________________________________________________________\n"
          ]
        }
      ]
    },
    {
      "cell_type": "code",
      "source": [
        "conv2.compile(optimizer='adam', loss='categorical_crossentropy', metrics=['accuracy'])\n",
        "history = conv2.fit(x_train, y_train_encoded, epochs=20, validation_data=(x_val, y_val_encoded))"
      ],
      "metadata": {
        "colab": {
          "base_uri": "https://localhost:8080/"
        },
        "id": "VALDrDmua_oC",
        "outputId": "526cd4c0-2882-4c5a-f382-f1b0993052b7"
      },
      "execution_count": null,
      "outputs": [
        {
          "output_type": "stream",
          "name": "stdout",
          "text": [
            "Epoch 1/20\n",
            "1500/1500 [==============================] - 27s 17ms/step - loss: 0.5037 - accuracy: 0.8209 - val_loss: 0.3500 - val_accuracy: 0.8767\n",
            "Epoch 2/20\n",
            "1500/1500 [==============================] - 23s 16ms/step - loss: 0.3719 - accuracy: 0.8653 - val_loss: 0.3025 - val_accuracy: 0.8896\n",
            "Epoch 3/20\n",
            "1500/1500 [==============================] - 23s 16ms/step - loss: 0.3337 - accuracy: 0.8760 - val_loss: 0.2839 - val_accuracy: 0.8970\n",
            "Epoch 4/20\n",
            "1500/1500 [==============================] - 22s 15ms/step - loss: 0.3082 - accuracy: 0.8853 - val_loss: 0.2706 - val_accuracy: 0.9009\n",
            "Epoch 5/20\n",
            "1500/1500 [==============================] - 23s 15ms/step - loss: 0.2907 - accuracy: 0.8913 - val_loss: 0.2642 - val_accuracy: 0.9053\n",
            "Epoch 6/20\n",
            "1500/1500 [==============================] - 22s 15ms/step - loss: 0.2751 - accuracy: 0.8959 - val_loss: 0.2593 - val_accuracy: 0.9053\n",
            "Epoch 7/20\n",
            "1500/1500 [==============================] - 23s 16ms/step - loss: 0.2595 - accuracy: 0.9037 - val_loss: 0.2630 - val_accuracy: 0.9017\n",
            "Epoch 8/20\n",
            "1500/1500 [==============================] - 30s 20ms/step - loss: 0.2518 - accuracy: 0.9056 - val_loss: 0.2462 - val_accuracy: 0.9081\n",
            "Epoch 9/20\n",
            "1500/1500 [==============================] - 23s 15ms/step - loss: 0.2413 - accuracy: 0.9091 - val_loss: 0.2397 - val_accuracy: 0.9125\n",
            "Epoch 10/20\n",
            "1500/1500 [==============================] - 22s 15ms/step - loss: 0.2301 - accuracy: 0.9144 - val_loss: 0.2438 - val_accuracy: 0.9106\n",
            "Epoch 11/20\n",
            "1500/1500 [==============================] - 22s 15ms/step - loss: 0.2238 - accuracy: 0.9172 - val_loss: 0.2381 - val_accuracy: 0.9128\n",
            "Epoch 12/20\n",
            "1500/1500 [==============================] - 21s 14ms/step - loss: 0.2155 - accuracy: 0.9181 - val_loss: 0.2446 - val_accuracy: 0.9122\n",
            "Epoch 13/20\n",
            "1500/1500 [==============================] - 22s 15ms/step - loss: 0.2160 - accuracy: 0.9191 - val_loss: 0.2453 - val_accuracy: 0.9093\n",
            "Epoch 14/20\n",
            "1500/1500 [==============================] - 21s 14ms/step - loss: 0.2042 - accuracy: 0.9222 - val_loss: 0.2376 - val_accuracy: 0.9153\n",
            "Epoch 15/20\n",
            "1500/1500 [==============================] - 22s 15ms/step - loss: 0.1993 - accuracy: 0.9244 - val_loss: 0.2386 - val_accuracy: 0.9159\n",
            "Epoch 16/20\n",
            "1500/1500 [==============================] - 23s 15ms/step - loss: 0.1944 - accuracy: 0.9274 - val_loss: 0.2384 - val_accuracy: 0.9184\n",
            "Epoch 17/20\n",
            "1500/1500 [==============================] - 22s 14ms/step - loss: 0.1903 - accuracy: 0.9278 - val_loss: 0.2343 - val_accuracy: 0.9175\n",
            "Epoch 18/20\n",
            "1500/1500 [==============================] - 22s 15ms/step - loss: 0.1872 - accuracy: 0.9283 - val_loss: 0.2334 - val_accuracy: 0.9188\n",
            "Epoch 19/20\n",
            "1500/1500 [==============================] - 22s 14ms/step - loss: 0.1859 - accuracy: 0.9302 - val_loss: 0.2423 - val_accuracy: 0.9170\n",
            "Epoch 20/20\n",
            "1500/1500 [==============================] - 22s 15ms/step - loss: 0.1819 - accuracy: 0.9316 - val_loss: 0.2382 - val_accuracy: 0.9177\n"
          ]
        }
      ]
    },
    {
      "cell_type": "code",
      "source": [
        "plt.plot(history.history['loss'])\n",
        "plt.plot(history.history['val_loss'])\n",
        "plt.ylabel('loss')\n",
        "plt.xlabel('epoch')\n",
        "plt.legend(['train_loss', 'val_loss'])\n",
        "plt.show()\n",
        "\n",
        "plt.plot(history.history['accuracy'])\n",
        "plt.plot(history.history['val_accuracy'])\n",
        "plt.ylabel('loss')\n",
        "plt.xlabel('epoch')\n",
        "plt.legend(['train_accuracy', 'val_accuracy'])\n",
        "plt.show()"
      ],
      "metadata": {
        "colab": {
          "base_uri": "https://localhost:8080/",
          "height": 541
        },
        "id": "KvpFtMqmbUCp",
        "outputId": "7531a3ef-3350-4483-e1ff-0598b0af0a4a"
      },
      "execution_count": null,
      "outputs": [
        {
          "output_type": "display_data",
          "data": {
            "text/plain": [
              "<Figure size 432x288 with 1 Axes>"
            ],
            "image/png": "[encoded data removed]"
          },
          "metadata": {
            "needs_background": "light"
          }
        },
        {
          "output_type": "display_data",
          "data": {
            "text/plain": [
              "<Figure size 432x288 with 1 Axes>"
            ],
            "image/png": "[encoded data removed]"
          },
          "metadata": {
            "needs_background": "light"
          }
        }
      ]
    },
    {
      "cell_type": "code",
      "source": [
        ""
      ],
      "metadata": {
        "id": "iquJmMZBdi4f"
      },
      "execution_count": null,
      "outputs": []
    }
  ]
}